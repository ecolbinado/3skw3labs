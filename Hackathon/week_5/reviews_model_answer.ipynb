{
 "cells": [
  {
   "cell_type": "markdown",
   "metadata": {
    "colab_type": "text",
    "id": "CJz6sJaJNJ8S"
   },
   "source": [
    "Download and unzip the data. Look at a few lines to see what the data really looks like."
   ]
  },
  {
   "cell_type": "code",
   "execution_count": 3,
   "metadata": {
    "colab": {
     "base_uri": "https://localhost:8080/",
     "height": 207
    },
    "colab_type": "code",
    "id": "rKVCSsEb_g4c",
    "outputId": "58fecc09-7fa6-498e-9937-23861dc573e5"
   },
   "outputs": [
    {
     "name": "stdout",
     "output_type": "stream",
     "text": [
      "--2019-10-29 07:13:24--  https://s3.amazonaws.com/amazon-reviews-pds/tsv/amazon_reviews_us_Digital_Music_Purchase_v1_00.tsv.gz\n",
      "Resolving s3.amazonaws.com (s3.amazonaws.com)... 52.216.9.21\n",
      "Connecting to s3.amazonaws.com (s3.amazonaws.com)|52.216.9.21|:443... connected.\n",
      "HTTP request sent, awaiting response... 200 OK\n",
      "Length: 253570168 (242M) [application/x-gzip]\n",
      "Saving to: ‘amazon_reviews_us_Digital_Music_Purchase_v1_00.tsv.gz’\n",
      "\n",
      "amazon_reviews_us_D 100%[===================>] 241.82M  16.9MB/s    in 16s     \n",
      "\n",
      "2019-10-29 07:13:40 (15.3 MB/s) - ‘amazon_reviews_us_Digital_Music_Purchase_v1_00.tsv.gz’ saved [253570168/253570168]\n",
      "\n"
     ]
    }
   ],
   "source": [
    "!wget https://s3.amazonaws.com/amazon-reviews-pds/tsv/amazon_reviews_us_Digital_Music_Purchase_v1_00.tsv.gz\n",
    "!gunzip amazon_reviews_us_Digital_Music_Purchase_v1_00.tsv.gz\n",
    "!head -1688 amazon_reviews_us_Digital_Music_Purchase_v1_00.tsv | tail -10 > sample.tsv"
   ]
  },
  {
   "cell_type": "code",
   "execution_count": 2,
   "metadata": {
    "colab": {
     "base_uri": "https://localhost:8080/",
     "height": 210
    },
    "colab_type": "code",
    "id": "ALf96de3HQqZ",
    "outputId": "658779bf-65e3-4f9d-e36b-8ebdfb784d33"
   },
   "outputs": [
    {
     "name": "stdout",
     "output_type": "stream",
     "text": [
      "US\t41407658\tR36QGZ2E1B796M\tB000V66PDE\t31743362\tIn Da Club (Explicit)\tDigital_Music_Purchase\t5\t0\t0\tN\tY\tGreat song\tI like it\t2015-08-31\n",
      "US\t20257308\tR3BKQUMWPSFP0H\tB00J569JO8\t982266919\tVicious Dominion\tDigital_Music_Purchase\t5\t0\t0\tN\tN\tMakes me want to listen to more.\tVery good sounding. Powerful choruses, and great melody to go with it.\t2015-08-31\n",
      "US\t17929559\tRKMVJL6JK5FCB\tB00FY4438W\t712405658\tRiver Flows In You\tDigital_Music_Purchase\t5\t0\t0\tN\tY\tFive Stars\tgreat music\t2015-08-31\n",
      "US\t50513034\tR2CEO6LDG5LFOZ\tB00DBB9FQA\t735987565\tAdvice from a Bear\tDigital_Music_Purchase\t5\t0\t0\tN\tY\tFive Stars\tGreat little song, delivered well.\t2015-08-31\n",
      "US\t42724323\tR1PJXTCI94CAL4\tB000S4CM72\t45040396\tCountry Roads [Explicit]\tDigital_Music_Purchase\t4\t0\t0\tN\tY\tgreat song\tneeds a little more intro before it starts\t2015-08-31\n",
      "US\t26395872\tRS731FAE6BOCC\tB011DBV7CE\t586864540\tKick The Dust Up\tDigital_Music_Purchase\t4\t0\t0\tN\tY\tFour Stars\tgot this for my kids - they love him\t2015-08-31\n",
      "US\t26073809\tR3LYXTYF0YSFV\tB00Q7PLY1Q\t388293484\tNight Changes (Live Acoustic Session)\tDigital_Music_Purchase\t5\t0\t0\tN\tY\tBeautiful version of this song\tBeautiful version of this song! I like the first 3/5's of it when it is almost all piano with single vocals, and then it sounds a little bit too much like a Disney singalong\t2015-08-31\n",
      "US\t36221514\tR1PEQ3IPULPWBI\tB00BBUQLCE\t471848324\tGreater is Coming - Radio Version Single\tDigital_Music_Purchase\t5\t0\t0\tN\tY\t\"For I know the plans I have for you, ...\t&#34;For I know the plans I have for you,” declares the Lord, “plans to prosper you and not to harm you, plans to give you hope and a future.&#34; JEREMIAH 29:11\t2015-08-31\n",
      "US\t41611587\tR3JM5G7H8RFE2E\tB00Y1RFQPW\t290317291\tSoca Gold 2015\tDigital_Music_Purchase\t3\t1\t1\tN\tN\tLike Ah Boss - Machel Montano\tToo many of the years' hits are missing including those from Cropover. Missing -  Cloud 9 - Lyrical , All ah wi -  Peter Ram, Mash Up-King Bubba, Like Ah Boss - Machel Montano, Remedy - Machel Montano  and several others missing.\t2015-08-31\n",
      "US\t731302\tR1PQII927WFPS2\tB0057UAV84\t132910161\tPrivate Investigations (As Made Famous By Dire Straits)\tDigital_Music_Purchase\t4\t0\t0\tN\tN\tFour Stars\tGood interpretation and sound. Not the best\t2015-08-31\n"
     ]
    }
   ],
   "source": [
    "!cat sample.tsv"
   ]
  },
  {
   "cell_type": "markdown",
   "metadata": {
    "colab_type": "text",
    "id": "s0OW_REhNfLN"
   },
   "source": [
    "Load the dataset to pandas and check if it looks okay."
   ]
  },
  {
   "cell_type": "code",
   "execution_count": 2,
   "metadata": {
    "ExecuteTime": {
     "end_time": "2019-10-30T23:49:41.666865Z",
     "start_time": "2019-10-30T23:49:07.964773Z"
    },
    "colab": {
     "base_uri": "https://localhost:8080/",
     "height": 928
    },
    "colab_type": "code",
    "id": "H1nWbvPjBsk1",
    "outputId": "f6441ec2-3502-4fb0-a00b-7a5803c7b1f5"
   },
   "outputs": [
    {
     "data": {
      "text/html": [
       "<div>\n",
       "<style scoped>\n",
       "    .dataframe tbody tr th:only-of-type {\n",
       "        vertical-align: middle;\n",
       "    }\n",
       "\n",
       "    .dataframe tbody tr th {\n",
       "        vertical-align: top;\n",
       "    }\n",
       "\n",
       "    .dataframe thead th {\n",
       "        text-align: right;\n",
       "    }\n",
       "</style>\n",
       "<table border=\"1\" class=\"dataframe\">\n",
       "  <thead>\n",
       "    <tr style=\"text-align: right;\">\n",
       "      <th></th>\n",
       "      <th>marketplace</th>\n",
       "      <th>customer_id</th>\n",
       "      <th>review_id</th>\n",
       "      <th>product_id</th>\n",
       "      <th>product_parent</th>\n",
       "      <th>product_title</th>\n",
       "      <th>product_category</th>\n",
       "      <th>star_rating</th>\n",
       "      <th>helpful_votes</th>\n",
       "      <th>total_votes</th>\n",
       "      <th>vine</th>\n",
       "      <th>verified_purchase</th>\n",
       "      <th>review_headline</th>\n",
       "      <th>review_body</th>\n",
       "      <th>review_date</th>\n",
       "    </tr>\n",
       "  </thead>\n",
       "  <tbody>\n",
       "    <tr>\n",
       "      <td>0</td>\n",
       "      <td>US</td>\n",
       "      <td>10293599</td>\n",
       "      <td>R14LVB34Z2Z53I</td>\n",
       "      <td>B000YMOQZY</td>\n",
       "      <td>262935067</td>\n",
       "      <td>Knockin' On Heaven's Door</td>\n",
       "      <td>Digital_Music_Purchase</td>\n",
       "      <td>5</td>\n",
       "      <td>0</td>\n",
       "      <td>0</td>\n",
       "      <td>N</td>\n",
       "      <td>Y</td>\n",
       "      <td>favorites</td>\n",
       "      <td>Great  rendition. Great  song</td>\n",
       "      <td>2015-08-31</td>\n",
       "    </tr>\n",
       "    <tr>\n",
       "      <td>1</td>\n",
       "      <td>US</td>\n",
       "      <td>6087195</td>\n",
       "      <td>R2M0R9CWPC82LT</td>\n",
       "      <td>B00ISAEC80</td>\n",
       "      <td>452318038</td>\n",
       "      <td>Flawless</td>\n",
       "      <td>Digital_Music_Purchase</td>\n",
       "      <td>5</td>\n",
       "      <td>0</td>\n",
       "      <td>0</td>\n",
       "      <td>N</td>\n",
       "      <td>Y</td>\n",
       "      <td>Five Stars</td>\n",
       "      <td>A good music to listen.</td>\n",
       "      <td>2015-08-31</td>\n",
       "    </tr>\n",
       "    <tr>\n",
       "      <td>2</td>\n",
       "      <td>US</td>\n",
       "      <td>33717063</td>\n",
       "      <td>RQNQI2R3BM52A</td>\n",
       "      <td>B00VBB6AVU</td>\n",
       "      <td>675969129</td>\n",
       "      <td>Scandal of Grace</td>\n",
       "      <td>Digital_Music_Purchase</td>\n",
       "      <td>4</td>\n",
       "      <td>0</td>\n",
       "      <td>0</td>\n",
       "      <td>N</td>\n",
       "      <td>Y</td>\n",
       "      <td>Good</td>\n",
       "      <td>Not as good as the original but I needed to he...</td>\n",
       "      <td>2015-08-31</td>\n",
       "    </tr>\n",
       "    <tr>\n",
       "      <td>3</td>\n",
       "      <td>US</td>\n",
       "      <td>14948020</td>\n",
       "      <td>RTUIX1135HUAB</td>\n",
       "      <td>B008A5POJO</td>\n",
       "      <td>282925893</td>\n",
       "      <td>I Surrender (Live)</td>\n",
       "      <td>Digital_Music_Purchase</td>\n",
       "      <td>5</td>\n",
       "      <td>0</td>\n",
       "      <td>0</td>\n",
       "      <td>N</td>\n",
       "      <td>Y</td>\n",
       "      <td>Wonderful lyrics! Makes you feel like praying</td>\n",
       "      <td>Time to worship and surrender with this song. ...</td>\n",
       "      <td>2015-08-31</td>\n",
       "    </tr>\n",
       "    <tr>\n",
       "      <td>4</td>\n",
       "      <td>US</td>\n",
       "      <td>21694522</td>\n",
       "      <td>RE3QSAT8TL010</td>\n",
       "      <td>B014CW2RN4</td>\n",
       "      <td>109077793</td>\n",
       "      <td>We Are Young (Jersey Club)</td>\n",
       "      <td>Digital_Music_Purchase</td>\n",
       "      <td>4</td>\n",
       "      <td>0</td>\n",
       "      <td>0</td>\n",
       "      <td>N</td>\n",
       "      <td>Y</td>\n",
       "      <td>Hot remix but took short</td>\n",
       "      <td>So this should be longer....but love this song:)</td>\n",
       "      <td>2015-08-31</td>\n",
       "    </tr>\n",
       "    <tr>\n",
       "      <td>...</td>\n",
       "      <td>...</td>\n",
       "      <td>...</td>\n",
       "      <td>...</td>\n",
       "      <td>...</td>\n",
       "      <td>...</td>\n",
       "      <td>...</td>\n",
       "      <td>...</td>\n",
       "      <td>...</td>\n",
       "      <td>...</td>\n",
       "      <td>...</td>\n",
       "      <td>...</td>\n",
       "      <td>...</td>\n",
       "      <td>...</td>\n",
       "      <td>...</td>\n",
       "      <td>...</td>\n",
       "    </tr>\n",
       "    <tr>\n",
       "      <td>1688879</td>\n",
       "      <td>US</td>\n",
       "      <td>49890809</td>\n",
       "      <td>RPJVPR5A5XRAN</td>\n",
       "      <td>B0026GBMLM</td>\n",
       "      <td>42676959</td>\n",
       "      <td>The Human Condition In Twelve Fractions</td>\n",
       "      <td>Digital_Music_Purchase</td>\n",
       "      <td>5</td>\n",
       "      <td>0</td>\n",
       "      <td>0</td>\n",
       "      <td>N</td>\n",
       "      <td>N</td>\n",
       "      <td>Classic</td>\n",
       "      <td>Sickening album. Just the hardest music ever m...</td>\n",
       "      <td>2001-11-17</td>\n",
       "    </tr>\n",
       "    <tr>\n",
       "      <td>1688880</td>\n",
       "      <td>US</td>\n",
       "      <td>49890809</td>\n",
       "      <td>R1497N35CA1J5</td>\n",
       "      <td>B000TETLAW</td>\n",
       "      <td>915283202</td>\n",
       "      <td>Liberate te ex Inferis</td>\n",
       "      <td>Digital_Music_Purchase</td>\n",
       "      <td>5</td>\n",
       "      <td>0</td>\n",
       "      <td>0</td>\n",
       "      <td>N</td>\n",
       "      <td>N</td>\n",
       "      <td>Their best</td>\n",
       "      <td>Zao's best album. When the metal and hardcore ...</td>\n",
       "      <td>2001-07-25</td>\n",
       "    </tr>\n",
       "    <tr>\n",
       "      <td>1688881</td>\n",
       "      <td>US</td>\n",
       "      <td>46804575</td>\n",
       "      <td>RA1QA65MLJA0S</td>\n",
       "      <td>B00138GY0I</td>\n",
       "      <td>191442803</td>\n",
       "      <td>Blood On The Dance Floor/ History In The Mix</td>\n",
       "      <td>Digital_Music_Purchase</td>\n",
       "      <td>4</td>\n",
       "      <td>0</td>\n",
       "      <td>0</td>\n",
       "      <td>N</td>\n",
       "      <td>N</td>\n",
       "      <td>4 of 5</td>\n",
       "      <td>This album has two titles because it is essent...</td>\n",
       "      <td>2000-12-07</td>\n",
       "    </tr>\n",
       "    <tr>\n",
       "      <td>1688882</td>\n",
       "      <td>US</td>\n",
       "      <td>49890809</td>\n",
       "      <td>R1AUDY2ED3Q1YT</td>\n",
       "      <td>B005NVYISQ</td>\n",
       "      <td>174062955</td>\n",
       "      <td>Satisfaction Is The Death Of Desire</td>\n",
       "      <td>Digital_Music_Purchase</td>\n",
       "      <td>5</td>\n",
       "      <td>0</td>\n",
       "      <td>0</td>\n",
       "      <td>N</td>\n",
       "      <td>N</td>\n",
       "      <td>The original</td>\n",
       "      <td>Straight forward tough hardcore. Stuff to lift...</td>\n",
       "      <td>2000-08-16</td>\n",
       "    </tr>\n",
       "    <tr>\n",
       "      <td>1688883</td>\n",
       "      <td>US</td>\n",
       "      <td>50503261</td>\n",
       "      <td>R3ODJG7TQK43XZ</td>\n",
       "      <td>B0073EPG00</td>\n",
       "      <td>220386223</td>\n",
       "      <td>Sixteen Tambourines / Baroque Hoedown</td>\n",
       "      <td>Digital_Music_Purchase</td>\n",
       "      <td>5</td>\n",
       "      <td>0</td>\n",
       "      <td>0</td>\n",
       "      <td>N</td>\n",
       "      <td>N</td>\n",
       "      <td>Two-fer reissue of Paisley Underground classics</td>\n",
       "      <td>This should really be called \\\\\"Baroque Hoedow...</td>\n",
       "      <td>2000-06-28</td>\n",
       "    </tr>\n",
       "  </tbody>\n",
       "</table>\n",
       "<p>1688884 rows × 15 columns</p>\n",
       "</div>"
      ],
      "text/plain": [
       "        marketplace  customer_id       review_id  product_id  product_parent  \\\n",
       "0                US     10293599  R14LVB34Z2Z53I  B000YMOQZY       262935067   \n",
       "1                US      6087195  R2M0R9CWPC82LT  B00ISAEC80       452318038   \n",
       "2                US     33717063   RQNQI2R3BM52A  B00VBB6AVU       675969129   \n",
       "3                US     14948020   RTUIX1135HUAB  B008A5POJO       282925893   \n",
       "4                US     21694522   RE3QSAT8TL010  B014CW2RN4       109077793   \n",
       "...             ...          ...             ...         ...             ...   \n",
       "1688879          US     49890809   RPJVPR5A5XRAN  B0026GBMLM        42676959   \n",
       "1688880          US     49890809   R1497N35CA1J5  B000TETLAW       915283202   \n",
       "1688881          US     46804575   RA1QA65MLJA0S  B00138GY0I       191442803   \n",
       "1688882          US     49890809  R1AUDY2ED3Q1YT  B005NVYISQ       174062955   \n",
       "1688883          US     50503261  R3ODJG7TQK43XZ  B0073EPG00       220386223   \n",
       "\n",
       "                                        product_title        product_category  \\\n",
       "0                           Knockin' On Heaven's Door  Digital_Music_Purchase   \n",
       "1                                            Flawless  Digital_Music_Purchase   \n",
       "2                                    Scandal of Grace  Digital_Music_Purchase   \n",
       "3                                  I Surrender (Live)  Digital_Music_Purchase   \n",
       "4                          We Are Young (Jersey Club)  Digital_Music_Purchase   \n",
       "...                                               ...                     ...   \n",
       "1688879       The Human Condition In Twelve Fractions  Digital_Music_Purchase   \n",
       "1688880                        Liberate te ex Inferis  Digital_Music_Purchase   \n",
       "1688881  Blood On The Dance Floor/ History In The Mix  Digital_Music_Purchase   \n",
       "1688882           Satisfaction Is The Death Of Desire  Digital_Music_Purchase   \n",
       "1688883         Sixteen Tambourines / Baroque Hoedown  Digital_Music_Purchase   \n",
       "\n",
       "         star_rating  helpful_votes  total_votes vine verified_purchase  \\\n",
       "0                  5              0            0    N                 Y   \n",
       "1                  5              0            0    N                 Y   \n",
       "2                  4              0            0    N                 Y   \n",
       "3                  5              0            0    N                 Y   \n",
       "4                  4              0            0    N                 Y   \n",
       "...              ...            ...          ...  ...               ...   \n",
       "1688879            5              0            0    N                 N   \n",
       "1688880            5              0            0    N                 N   \n",
       "1688881            4              0            0    N                 N   \n",
       "1688882            5              0            0    N                 N   \n",
       "1688883            5              0            0    N                 N   \n",
       "\n",
       "                                         review_headline  \\\n",
       "0                                              favorites   \n",
       "1                                             Five Stars   \n",
       "2                                                   Good   \n",
       "3          Wonderful lyrics! Makes you feel like praying   \n",
       "4                               Hot remix but took short   \n",
       "...                                                  ...   \n",
       "1688879                                          Classic   \n",
       "1688880                                       Their best   \n",
       "1688881                                           4 of 5   \n",
       "1688882                                     The original   \n",
       "1688883  Two-fer reissue of Paisley Underground classics   \n",
       "\n",
       "                                               review_body review_date  \n",
       "0                            Great  rendition. Great  song  2015-08-31  \n",
       "1                                  A good music to listen.  2015-08-31  \n",
       "2        Not as good as the original but I needed to he...  2015-08-31  \n",
       "3        Time to worship and surrender with this song. ...  2015-08-31  \n",
       "4         So this should be longer....but love this song:)  2015-08-31  \n",
       "...                                                    ...         ...  \n",
       "1688879  Sickening album. Just the hardest music ever m...  2001-11-17  \n",
       "1688880  Zao's best album. When the metal and hardcore ...  2001-07-25  \n",
       "1688881  This album has two titles because it is essent...  2000-12-07  \n",
       "1688882  Straight forward tough hardcore. Stuff to lift...  2000-08-16  \n",
       "1688883  This should really be called \\\\\"Baroque Hoedow...  2000-06-28  \n",
       "\n",
       "[1688884 rows x 15 columns]"
      ]
     },
     "execution_count": 2,
     "metadata": {},
     "output_type": "execute_result"
    }
   ],
   "source": [
    "import pandas as pd\n",
    "import csv\n",
    "\n",
    "df = pd.read_csv('amazon_reviews_us_Digital_Music_Purchase_v1_00.tsv.gz', sep='\\t', engine=\"python\",  quoting=csv.QUOTE_NONE)\n",
    "df"
   ]
  },
  {
   "cell_type": "markdown",
   "metadata": {
    "colab_type": "text",
    "id": "mrFQCF3O46VR"
   },
   "source": [
    "# **Conceptualization**"
   ]
  },
  {
   "cell_type": "markdown",
   "metadata": {
    "colab_type": "text",
    "id": "JVMKbYM1Nt8F"
   },
   "source": [
    "Before we start building any model here is what I think about the problem -\n",
    "\n",
    "1. It is not clear to what extent review text can predict the rating and total number of helpful votes.\n",
    "  - ratings are subjective, there is no calibration.\n",
    "  - some people write very small and generic reviews.\n",
    "  - number of helpful votes may also depend on when the review was written.\n",
    "2. Review title might carry more weight than the review body - we may want to experiment with varying this relative weight.\n",
    "3. Length of review might have some correlation with helpfulness, as descriptive reviews are likely to be more useful.\n",
    "4. Use of more descriptive adjectives and adverbs are also likely to be more helpful.\n",
    "5. A person writing one helpful review is likely to write more reviews which are marked helpful.\n",
    "6. If number of reviews per reviewer is high, one may find some interesting pattern in ratings from the same reviewer as well.\n",
    "7. It is also possible that some product-category get more reviews, higher ratings, more upvotes etc.\n",
    "\n",
    "\n",
    "I would do some EDA to validate some of the above hypothesis and find more interesting insights.\n",
    "\n",
    "\n",
    "# **EDA**"
   ]
  },
  {
   "cell_type": "code",
   "execution_count": 3,
   "metadata": {
    "ExecuteTime": {
     "end_time": "2019-10-30T23:52:59.440252Z",
     "start_time": "2019-10-30T23:52:58.593877Z"
    },
    "colab": {},
    "colab_type": "code",
    "id": "9UFQ86XFhpg5"
   },
   "outputs": [],
   "source": [
    "df[\"review_length\"] = df[\"review_body\"].astype(str).map(len)\n"
   ]
  },
  {
   "cell_type": "code",
   "execution_count": 5,
   "metadata": {
    "ExecuteTime": {
     "end_time": "2019-10-30T23:53:13.290283Z",
     "start_time": "2019-10-30T23:53:13.264760Z"
    }
   },
   "outputs": [
    {
     "data": {
      "text/html": [
       "<div>\n",
       "<style scoped>\n",
       "    .dataframe tbody tr th:only-of-type {\n",
       "        vertical-align: middle;\n",
       "    }\n",
       "\n",
       "    .dataframe tbody tr th {\n",
       "        vertical-align: top;\n",
       "    }\n",
       "\n",
       "    .dataframe thead th {\n",
       "        text-align: right;\n",
       "    }\n",
       "</style>\n",
       "<table border=\"1\" class=\"dataframe\">\n",
       "  <thead>\n",
       "    <tr style=\"text-align: right;\">\n",
       "      <th></th>\n",
       "      <th>marketplace</th>\n",
       "      <th>customer_id</th>\n",
       "      <th>review_id</th>\n",
       "      <th>product_id</th>\n",
       "      <th>product_parent</th>\n",
       "      <th>product_title</th>\n",
       "      <th>product_category</th>\n",
       "      <th>star_rating</th>\n",
       "      <th>helpful_votes</th>\n",
       "      <th>total_votes</th>\n",
       "      <th>vine</th>\n",
       "      <th>verified_purchase</th>\n",
       "      <th>review_headline</th>\n",
       "      <th>review_body</th>\n",
       "      <th>review_date</th>\n",
       "      <th>review_length</th>\n",
       "    </tr>\n",
       "  </thead>\n",
       "  <tbody>\n",
       "    <tr>\n",
       "      <td>0</td>\n",
       "      <td>US</td>\n",
       "      <td>10293599</td>\n",
       "      <td>R14LVB34Z2Z53I</td>\n",
       "      <td>B000YMOQZY</td>\n",
       "      <td>262935067</td>\n",
       "      <td>Knockin' On Heaven's Door</td>\n",
       "      <td>Digital_Music_Purchase</td>\n",
       "      <td>5</td>\n",
       "      <td>0</td>\n",
       "      <td>0</td>\n",
       "      <td>N</td>\n",
       "      <td>Y</td>\n",
       "      <td>favorites</td>\n",
       "      <td>Great  rendition. Great  song</td>\n",
       "      <td>2015-08-31</td>\n",
       "      <td>29</td>\n",
       "    </tr>\n",
       "    <tr>\n",
       "      <td>1</td>\n",
       "      <td>US</td>\n",
       "      <td>6087195</td>\n",
       "      <td>R2M0R9CWPC82LT</td>\n",
       "      <td>B00ISAEC80</td>\n",
       "      <td>452318038</td>\n",
       "      <td>Flawless</td>\n",
       "      <td>Digital_Music_Purchase</td>\n",
       "      <td>5</td>\n",
       "      <td>0</td>\n",
       "      <td>0</td>\n",
       "      <td>N</td>\n",
       "      <td>Y</td>\n",
       "      <td>Five Stars</td>\n",
       "      <td>A good music to listen.</td>\n",
       "      <td>2015-08-31</td>\n",
       "      <td>23</td>\n",
       "    </tr>\n",
       "    <tr>\n",
       "      <td>2</td>\n",
       "      <td>US</td>\n",
       "      <td>33717063</td>\n",
       "      <td>RQNQI2R3BM52A</td>\n",
       "      <td>B00VBB6AVU</td>\n",
       "      <td>675969129</td>\n",
       "      <td>Scandal of Grace</td>\n",
       "      <td>Digital_Music_Purchase</td>\n",
       "      <td>4</td>\n",
       "      <td>0</td>\n",
       "      <td>0</td>\n",
       "      <td>N</td>\n",
       "      <td>Y</td>\n",
       "      <td>Good</td>\n",
       "      <td>Not as good as the original but I needed to he...</td>\n",
       "      <td>2015-08-31</td>\n",
       "      <td>103</td>\n",
       "    </tr>\n",
       "    <tr>\n",
       "      <td>3</td>\n",
       "      <td>US</td>\n",
       "      <td>14948020</td>\n",
       "      <td>RTUIX1135HUAB</td>\n",
       "      <td>B008A5POJO</td>\n",
       "      <td>282925893</td>\n",
       "      <td>I Surrender (Live)</td>\n",
       "      <td>Digital_Music_Purchase</td>\n",
       "      <td>5</td>\n",
       "      <td>0</td>\n",
       "      <td>0</td>\n",
       "      <td>N</td>\n",
       "      <td>Y</td>\n",
       "      <td>Wonderful lyrics! Makes you feel like praying</td>\n",
       "      <td>Time to worship and surrender with this song. ...</td>\n",
       "      <td>2015-08-31</td>\n",
       "      <td>93</td>\n",
       "    </tr>\n",
       "    <tr>\n",
       "      <td>4</td>\n",
       "      <td>US</td>\n",
       "      <td>21694522</td>\n",
       "      <td>RE3QSAT8TL010</td>\n",
       "      <td>B014CW2RN4</td>\n",
       "      <td>109077793</td>\n",
       "      <td>We Are Young (Jersey Club)</td>\n",
       "      <td>Digital_Music_Purchase</td>\n",
       "      <td>4</td>\n",
       "      <td>0</td>\n",
       "      <td>0</td>\n",
       "      <td>N</td>\n",
       "      <td>Y</td>\n",
       "      <td>Hot remix but took short</td>\n",
       "      <td>So this should be longer....but love this song:)</td>\n",
       "      <td>2015-08-31</td>\n",
       "      <td>48</td>\n",
       "    </tr>\n",
       "  </tbody>\n",
       "</table>\n",
       "</div>"
      ],
      "text/plain": [
       "  marketplace  customer_id       review_id  product_id  product_parent  \\\n",
       "0          US     10293599  R14LVB34Z2Z53I  B000YMOQZY       262935067   \n",
       "1          US      6087195  R2M0R9CWPC82LT  B00ISAEC80       452318038   \n",
       "2          US     33717063   RQNQI2R3BM52A  B00VBB6AVU       675969129   \n",
       "3          US     14948020   RTUIX1135HUAB  B008A5POJO       282925893   \n",
       "4          US     21694522   RE3QSAT8TL010  B014CW2RN4       109077793   \n",
       "\n",
       "                product_title        product_category  star_rating  \\\n",
       "0   Knockin' On Heaven's Door  Digital_Music_Purchase            5   \n",
       "1                    Flawless  Digital_Music_Purchase            5   \n",
       "2            Scandal of Grace  Digital_Music_Purchase            4   \n",
       "3          I Surrender (Live)  Digital_Music_Purchase            5   \n",
       "4  We Are Young (Jersey Club)  Digital_Music_Purchase            4   \n",
       "\n",
       "   helpful_votes  total_votes vine verified_purchase  \\\n",
       "0              0            0    N                 Y   \n",
       "1              0            0    N                 Y   \n",
       "2              0            0    N                 Y   \n",
       "3              0            0    N                 Y   \n",
       "4              0            0    N                 Y   \n",
       "\n",
       "                                 review_headline  \\\n",
       "0                                      favorites   \n",
       "1                                     Five Stars   \n",
       "2                                           Good   \n",
       "3  Wonderful lyrics! Makes you feel like praying   \n",
       "4                       Hot remix but took short   \n",
       "\n",
       "                                         review_body review_date  \\\n",
       "0                      Great  rendition. Great  song  2015-08-31   \n",
       "1                            A good music to listen.  2015-08-31   \n",
       "2  Not as good as the original but I needed to he...  2015-08-31   \n",
       "3  Time to worship and surrender with this song. ...  2015-08-31   \n",
       "4   So this should be longer....but love this song:)  2015-08-31   \n",
       "\n",
       "   review_length  \n",
       "0             29  \n",
       "1             23  \n",
       "2            103  \n",
       "3             93  \n",
       "4             48  "
      ]
     },
     "execution_count": 5,
     "metadata": {},
     "output_type": "execute_result"
    }
   ],
   "source": [
    "df.head()"
   ]
  },
  {
   "cell_type": "code",
   "execution_count": 6,
   "metadata": {
    "ExecuteTime": {
     "end_time": "2019-10-30T23:55:08.385793Z",
     "start_time": "2019-10-30T23:55:08.204980Z"
    },
    "colab": {
     "base_uri": "https://localhost:8080/",
     "height": 228
    },
    "colab_type": "code",
    "id": "Xvej0zuqh35j",
    "outputId": "2473b0b3-e270-4e91-f4d6-362c79458f3c"
   },
   "outputs": [
    {
     "data": {
      "text/html": [
       "<div>\n",
       "<style scoped>\n",
       "    .dataframe tbody tr th:only-of-type {\n",
       "        vertical-align: middle;\n",
       "    }\n",
       "\n",
       "    .dataframe tbody tr th {\n",
       "        vertical-align: top;\n",
       "    }\n",
       "\n",
       "    .dataframe thead th {\n",
       "        text-align: right;\n",
       "    }\n",
       "</style>\n",
       "<table border=\"1\" class=\"dataframe\">\n",
       "  <thead>\n",
       "    <tr style=\"text-align: right;\">\n",
       "      <th></th>\n",
       "      <th>customer_id</th>\n",
       "      <th>product_parent</th>\n",
       "      <th>star_rating</th>\n",
       "      <th>helpful_votes</th>\n",
       "      <th>total_votes</th>\n",
       "      <th>review_length</th>\n",
       "    </tr>\n",
       "  </thead>\n",
       "  <tbody>\n",
       "    <tr>\n",
       "      <td>customer_id</td>\n",
       "      <td>1.000000</td>\n",
       "      <td>-0.000118</td>\n",
       "      <td>-0.029800</td>\n",
       "      <td>0.041791</td>\n",
       "      <td>0.043246</td>\n",
       "      <td>0.080727</td>\n",
       "    </tr>\n",
       "    <tr>\n",
       "      <td>product_parent</td>\n",
       "      <td>-0.000118</td>\n",
       "      <td>1.000000</td>\n",
       "      <td>0.001979</td>\n",
       "      <td>-0.003460</td>\n",
       "      <td>-0.003436</td>\n",
       "      <td>-0.000567</td>\n",
       "    </tr>\n",
       "    <tr>\n",
       "      <td>star_rating</td>\n",
       "      <td>-0.029800</td>\n",
       "      <td>0.001979</td>\n",
       "      <td>1.000000</td>\n",
       "      <td>-0.074012</td>\n",
       "      <td>-0.174298</td>\n",
       "      <td>-0.052895</td>\n",
       "    </tr>\n",
       "    <tr>\n",
       "      <td>helpful_votes</td>\n",
       "      <td>0.041791</td>\n",
       "      <td>-0.003460</td>\n",
       "      <td>-0.074012</td>\n",
       "      <td>1.000000</td>\n",
       "      <td>0.892437</td>\n",
       "      <td>0.223474</td>\n",
       "    </tr>\n",
       "    <tr>\n",
       "      <td>total_votes</td>\n",
       "      <td>0.043246</td>\n",
       "      <td>-0.003436</td>\n",
       "      <td>-0.174298</td>\n",
       "      <td>0.892437</td>\n",
       "      <td>1.000000</td>\n",
       "      <td>0.206401</td>\n",
       "    </tr>\n",
       "    <tr>\n",
       "      <td>review_length</td>\n",
       "      <td>0.080727</td>\n",
       "      <td>-0.000567</td>\n",
       "      <td>-0.052895</td>\n",
       "      <td>0.223474</td>\n",
       "      <td>0.206401</td>\n",
       "      <td>1.000000</td>\n",
       "    </tr>\n",
       "  </tbody>\n",
       "</table>\n",
       "</div>"
      ],
      "text/plain": [
       "                customer_id  product_parent  star_rating  helpful_votes  \\\n",
       "customer_id        1.000000       -0.000118    -0.029800       0.041791   \n",
       "product_parent    -0.000118        1.000000     0.001979      -0.003460   \n",
       "star_rating       -0.029800        0.001979     1.000000      -0.074012   \n",
       "helpful_votes      0.041791       -0.003460    -0.074012       1.000000   \n",
       "total_votes        0.043246       -0.003436    -0.174298       0.892437   \n",
       "review_length      0.080727       -0.000567    -0.052895       0.223474   \n",
       "\n",
       "                total_votes  review_length  \n",
       "customer_id        0.043246       0.080727  \n",
       "product_parent    -0.003436      -0.000567  \n",
       "star_rating       -0.174298      -0.052895  \n",
       "helpful_votes      0.892437       0.223474  \n",
       "total_votes        1.000000       0.206401  \n",
       "review_length      0.206401       1.000000  "
      ]
     },
     "execution_count": 6,
     "metadata": {},
     "output_type": "execute_result"
    }
   ],
   "source": [
    "df.corr()"
   ]
  },
  {
   "cell_type": "markdown",
   "metadata": {
    "colab_type": "text",
    "id": "iec5ba9Yhizo"
   },
   "source": [
    "There is very small correlation between review_length and helpfulness. Only total_votes and helpful_votes are highly correlated, but that does not mean much. That makes me wonder if I should check the ratio of helpful votes."
   ]
  },
  {
   "cell_type": "code",
   "execution_count": 8,
   "metadata": {
    "ExecuteTime": {
     "end_time": "2019-10-31T00:01:03.484161Z",
     "start_time": "2019-10-31T00:01:03.095214Z"
    },
    "colab": {
     "base_uri": "https://localhost:8080/",
     "height": 258
    },
    "colab_type": "code",
    "id": "GjgukfAyke3s",
    "outputId": "45979244-74cc-46f3-b16c-f4fdc6330858"
   },
   "outputs": [
    {
     "data": {
      "text/html": [
       "<div>\n",
       "<style scoped>\n",
       "    .dataframe tbody tr th:only-of-type {\n",
       "        vertical-align: middle;\n",
       "    }\n",
       "\n",
       "    .dataframe tbody tr th {\n",
       "        vertical-align: top;\n",
       "    }\n",
       "\n",
       "    .dataframe thead th {\n",
       "        text-align: right;\n",
       "    }\n",
       "</style>\n",
       "<table border=\"1\" class=\"dataframe\">\n",
       "  <thead>\n",
       "    <tr style=\"text-align: right;\">\n",
       "      <th></th>\n",
       "      <th>customer_id</th>\n",
       "      <th>product_parent</th>\n",
       "      <th>star_rating</th>\n",
       "      <th>helpful_votes</th>\n",
       "      <th>total_votes</th>\n",
       "      <th>review_length</th>\n",
       "      <th>helpfulness</th>\n",
       "    </tr>\n",
       "  </thead>\n",
       "  <tbody>\n",
       "    <tr>\n",
       "      <td>customer_id</td>\n",
       "      <td>1.000000</td>\n",
       "      <td>-0.000118</td>\n",
       "      <td>-0.029800</td>\n",
       "      <td>0.041791</td>\n",
       "      <td>0.043246</td>\n",
       "      <td>0.080727</td>\n",
       "      <td>0.076452</td>\n",
       "    </tr>\n",
       "    <tr>\n",
       "      <td>product_parent</td>\n",
       "      <td>-0.000118</td>\n",
       "      <td>1.000000</td>\n",
       "      <td>0.001979</td>\n",
       "      <td>-0.003460</td>\n",
       "      <td>-0.003436</td>\n",
       "      <td>-0.000567</td>\n",
       "      <td>-0.005033</td>\n",
       "    </tr>\n",
       "    <tr>\n",
       "      <td>star_rating</td>\n",
       "      <td>-0.029800</td>\n",
       "      <td>0.001979</td>\n",
       "      <td>1.000000</td>\n",
       "      <td>-0.074012</td>\n",
       "      <td>-0.174298</td>\n",
       "      <td>-0.052895</td>\n",
       "      <td>-0.055327</td>\n",
       "    </tr>\n",
       "    <tr>\n",
       "      <td>helpful_votes</td>\n",
       "      <td>0.041791</td>\n",
       "      <td>-0.003460</td>\n",
       "      <td>-0.074012</td>\n",
       "      <td>1.000000</td>\n",
       "      <td>0.892437</td>\n",
       "      <td>0.223474</td>\n",
       "      <td>0.436079</td>\n",
       "    </tr>\n",
       "    <tr>\n",
       "      <td>total_votes</td>\n",
       "      <td>0.043246</td>\n",
       "      <td>-0.003436</td>\n",
       "      <td>-0.174298</td>\n",
       "      <td>0.892437</td>\n",
       "      <td>1.000000</td>\n",
       "      <td>0.206401</td>\n",
       "      <td>0.376120</td>\n",
       "    </tr>\n",
       "    <tr>\n",
       "      <td>review_length</td>\n",
       "      <td>0.080727</td>\n",
       "      <td>-0.000567</td>\n",
       "      <td>-0.052895</td>\n",
       "      <td>0.223474</td>\n",
       "      <td>0.206401</td>\n",
       "      <td>1.000000</td>\n",
       "      <td>0.261294</td>\n",
       "    </tr>\n",
       "    <tr>\n",
       "      <td>helpfulness</td>\n",
       "      <td>0.076452</td>\n",
       "      <td>-0.005033</td>\n",
       "      <td>-0.055327</td>\n",
       "      <td>0.436079</td>\n",
       "      <td>0.376120</td>\n",
       "      <td>0.261294</td>\n",
       "      <td>1.000000</td>\n",
       "    </tr>\n",
       "  </tbody>\n",
       "</table>\n",
       "</div>"
      ],
      "text/plain": [
       "                customer_id  product_parent  star_rating  helpful_votes  \\\n",
       "customer_id        1.000000       -0.000118    -0.029800       0.041791   \n",
       "product_parent    -0.000118        1.000000     0.001979      -0.003460   \n",
       "star_rating       -0.029800        0.001979     1.000000      -0.074012   \n",
       "helpful_votes      0.041791       -0.003460    -0.074012       1.000000   \n",
       "total_votes        0.043246       -0.003436    -0.174298       0.892437   \n",
       "review_length      0.080727       -0.000567    -0.052895       0.223474   \n",
       "helpfulness        0.076452       -0.005033    -0.055327       0.436079   \n",
       "\n",
       "                total_votes  review_length  helpfulness  \n",
       "customer_id        0.043246       0.080727     0.076452  \n",
       "product_parent    -0.003436      -0.000567    -0.005033  \n",
       "star_rating       -0.174298      -0.052895    -0.055327  \n",
       "helpful_votes      0.892437       0.223474     0.436079  \n",
       "total_votes        1.000000       0.206401     0.376120  \n",
       "review_length      0.206401       1.000000     0.261294  \n",
       "helpfulness        0.376120       0.261294     1.000000  "
      ]
     },
     "execution_count": 8,
     "metadata": {},
     "output_type": "execute_result"
    }
   ],
   "source": [
    "df['helpfulness'] = df['helpful_votes'] / (1 + df['total_votes'])  # Adding 1 to avoid division by zero\n",
    "df.corr()"
   ]
  },
  {
   "cell_type": "code",
   "execution_count": 0,
   "metadata": {
    "colab": {
     "base_uri": "https://localhost:8080/",
     "height": 258
    },
    "colab_type": "code",
    "id": "os-Ydk_llJwP",
    "outputId": "bf747747-0701-4ea1-d166-7f4843952a23"
   },
   "outputs": [
    {
     "data": {
      "text/html": [
       "<div>\n",
       "<style scoped>\n",
       "    .dataframe tbody tr th:only-of-type {\n",
       "        vertical-align: middle;\n",
       "    }\n",
       "\n",
       "    .dataframe tbody tr th {\n",
       "        vertical-align: top;\n",
       "    }\n",
       "\n",
       "    .dataframe thead th {\n",
       "        text-align: right;\n",
       "    }\n",
       "</style>\n",
       "<table border=\"1\" class=\"dataframe\">\n",
       "  <thead>\n",
       "    <tr style=\"text-align: right;\">\n",
       "      <th></th>\n",
       "      <th>customer_id</th>\n",
       "      <th>product_parent</th>\n",
       "      <th>star_rating</th>\n",
       "      <th>helpful_votes</th>\n",
       "      <th>total_votes</th>\n",
       "      <th>review_length</th>\n",
       "      <th>helpfulness</th>\n",
       "    </tr>\n",
       "  </thead>\n",
       "  <tbody>\n",
       "    <tr>\n",
       "      <th>customer_id</th>\n",
       "      <td>1.000000</td>\n",
       "      <td>-0.001004</td>\n",
       "      <td>NaN</td>\n",
       "      <td>0.036349</td>\n",
       "      <td>0.037047</td>\n",
       "      <td>0.075019</td>\n",
       "      <td>0.069740</td>\n",
       "    </tr>\n",
       "    <tr>\n",
       "      <th>product_parent</th>\n",
       "      <td>-0.001004</td>\n",
       "      <td>1.000000</td>\n",
       "      <td>NaN</td>\n",
       "      <td>-0.002288</td>\n",
       "      <td>-0.002524</td>\n",
       "      <td>-0.000867</td>\n",
       "      <td>-0.004458</td>\n",
       "    </tr>\n",
       "    <tr>\n",
       "      <th>star_rating</th>\n",
       "      <td>NaN</td>\n",
       "      <td>NaN</td>\n",
       "      <td>NaN</td>\n",
       "      <td>NaN</td>\n",
       "      <td>NaN</td>\n",
       "      <td>NaN</td>\n",
       "      <td>NaN</td>\n",
       "    </tr>\n",
       "    <tr>\n",
       "      <th>helpful_votes</th>\n",
       "      <td>0.036349</td>\n",
       "      <td>-0.002288</td>\n",
       "      <td>NaN</td>\n",
       "      <td>1.000000</td>\n",
       "      <td>0.981782</td>\n",
       "      <td>0.231814</td>\n",
       "      <td>0.430627</td>\n",
       "    </tr>\n",
       "    <tr>\n",
       "      <th>total_votes</th>\n",
       "      <td>0.037047</td>\n",
       "      <td>-0.002524</td>\n",
       "      <td>NaN</td>\n",
       "      <td>0.981782</td>\n",
       "      <td>1.000000</td>\n",
       "      <td>0.230187</td>\n",
       "      <td>0.419581</td>\n",
       "    </tr>\n",
       "    <tr>\n",
       "      <th>review_length</th>\n",
       "      <td>0.075019</td>\n",
       "      <td>-0.000867</td>\n",
       "      <td>NaN</td>\n",
       "      <td>0.231814</td>\n",
       "      <td>0.230187</td>\n",
       "      <td>1.000000</td>\n",
       "      <td>0.263974</td>\n",
       "    </tr>\n",
       "    <tr>\n",
       "      <th>helpfulness</th>\n",
       "      <td>0.069740</td>\n",
       "      <td>-0.004458</td>\n",
       "      <td>NaN</td>\n",
       "      <td>0.430627</td>\n",
       "      <td>0.419581</td>\n",
       "      <td>0.263974</td>\n",
       "      <td>1.000000</td>\n",
       "    </tr>\n",
       "  </tbody>\n",
       "</table>\n",
       "</div>"
      ],
      "text/plain": [
       "                customer_id  product_parent  ...  review_length  helpfulness\n",
       "customer_id        1.000000       -0.001004  ...       0.075019     0.069740\n",
       "product_parent    -0.001004        1.000000  ...      -0.000867    -0.004458\n",
       "star_rating             NaN             NaN  ...            NaN          NaN\n",
       "helpful_votes      0.036349       -0.002288  ...       0.231814     0.430627\n",
       "total_votes        0.037047       -0.002524  ...       0.230187     0.419581\n",
       "review_length      0.075019       -0.000867  ...       1.000000     0.263974\n",
       "helpfulness        0.069740       -0.004458  ...       0.263974     1.000000\n",
       "\n",
       "[7 rows x 7 columns]"
      ]
     },
     "execution_count": 25,
     "metadata": {
      "tags": []
     },
     "output_type": "execute_result"
    }
   ],
   "source": [
    "df[df['star_rating'] == 5].corr()"
   ]
  },
  {
   "cell_type": "code",
   "execution_count": 0,
   "metadata": {
    "colab": {
     "base_uri": "https://localhost:8080/",
     "height": 258
    },
    "colab_type": "code",
    "id": "a50I_YE2mxVa",
    "outputId": "30bf1423-d00b-4b33-a809-ed17be9875a0"
   },
   "outputs": [
    {
     "data": {
      "text/html": [
       "<div>\n",
       "<style scoped>\n",
       "    .dataframe tbody tr th:only-of-type {\n",
       "        vertical-align: middle;\n",
       "    }\n",
       "\n",
       "    .dataframe tbody tr th {\n",
       "        vertical-align: top;\n",
       "    }\n",
       "\n",
       "    .dataframe thead th {\n",
       "        text-align: right;\n",
       "    }\n",
       "</style>\n",
       "<table border=\"1\" class=\"dataframe\">\n",
       "  <thead>\n",
       "    <tr style=\"text-align: right;\">\n",
       "      <th></th>\n",
       "      <th>customer_id</th>\n",
       "      <th>product_parent</th>\n",
       "      <th>star_rating</th>\n",
       "      <th>helpful_votes</th>\n",
       "      <th>total_votes</th>\n",
       "      <th>review_length</th>\n",
       "      <th>helpfulness</th>\n",
       "    </tr>\n",
       "  </thead>\n",
       "  <tbody>\n",
       "    <tr>\n",
       "      <th>customer_id</th>\n",
       "      <td>1.000000</td>\n",
       "      <td>0.011110</td>\n",
       "      <td>NaN</td>\n",
       "      <td>0.054236</td>\n",
       "      <td>0.057771</td>\n",
       "      <td>0.068433</td>\n",
       "      <td>0.093470</td>\n",
       "    </tr>\n",
       "    <tr>\n",
       "      <th>product_parent</th>\n",
       "      <td>0.011110</td>\n",
       "      <td>1.000000</td>\n",
       "      <td>NaN</td>\n",
       "      <td>-0.024727</td>\n",
       "      <td>-0.010910</td>\n",
       "      <td>0.004603</td>\n",
       "      <td>-0.022046</td>\n",
       "    </tr>\n",
       "    <tr>\n",
       "      <th>star_rating</th>\n",
       "      <td>NaN</td>\n",
       "      <td>NaN</td>\n",
       "      <td>NaN</td>\n",
       "      <td>NaN</td>\n",
       "      <td>NaN</td>\n",
       "      <td>NaN</td>\n",
       "      <td>NaN</td>\n",
       "    </tr>\n",
       "    <tr>\n",
       "      <th>helpful_votes</th>\n",
       "      <td>0.054236</td>\n",
       "      <td>-0.024727</td>\n",
       "      <td>NaN</td>\n",
       "      <td>1.000000</td>\n",
       "      <td>0.685565</td>\n",
       "      <td>0.209079</td>\n",
       "      <td>0.513972</td>\n",
       "    </tr>\n",
       "    <tr>\n",
       "      <th>total_votes</th>\n",
       "      <td>0.057771</td>\n",
       "      <td>-0.010910</td>\n",
       "      <td>NaN</td>\n",
       "      <td>0.685565</td>\n",
       "      <td>1.000000</td>\n",
       "      <td>0.195779</td>\n",
       "      <td>0.262372</td>\n",
       "    </tr>\n",
       "    <tr>\n",
       "      <th>review_length</th>\n",
       "      <td>0.068433</td>\n",
       "      <td>0.004603</td>\n",
       "      <td>NaN</td>\n",
       "      <td>0.209079</td>\n",
       "      <td>0.195779</td>\n",
       "      <td>1.000000</td>\n",
       "      <td>0.210809</td>\n",
       "    </tr>\n",
       "    <tr>\n",
       "      <th>helpfulness</th>\n",
       "      <td>0.093470</td>\n",
       "      <td>-0.022046</td>\n",
       "      <td>NaN</td>\n",
       "      <td>0.513972</td>\n",
       "      <td>0.262372</td>\n",
       "      <td>0.210809</td>\n",
       "      <td>1.000000</td>\n",
       "    </tr>\n",
       "  </tbody>\n",
       "</table>\n",
       "</div>"
      ],
      "text/plain": [
       "                customer_id  product_parent  ...  review_length  helpfulness\n",
       "customer_id        1.000000        0.011110  ...       0.068433     0.093470\n",
       "product_parent     0.011110        1.000000  ...       0.004603    -0.022046\n",
       "star_rating             NaN             NaN  ...            NaN          NaN\n",
       "helpful_votes      0.054236       -0.024727  ...       0.209079     0.513972\n",
       "total_votes        0.057771       -0.010910  ...       0.195779     0.262372\n",
       "review_length      0.068433        0.004603  ...       1.000000     0.210809\n",
       "helpfulness        0.093470       -0.022046  ...       0.210809     1.000000\n",
       "\n",
       "[7 rows x 7 columns]"
      ]
     },
     "execution_count": 26,
     "metadata": {
      "tags": []
     },
     "output_type": "execute_result"
    }
   ],
   "source": [
    "df[df['star_rating'] == 1].corr()"
   ]
  },
  {
   "cell_type": "code",
   "execution_count": 0,
   "metadata": {
    "colab": {
     "base_uri": "https://localhost:8080/",
     "height": 258
    },
    "colab_type": "code",
    "id": "PqZZOhBQm-Vs",
    "outputId": "5f2ab736-ab5f-4ce8-d054-a9a6c3487948"
   },
   "outputs": [
    {
     "data": {
      "text/html": [
       "<div>\n",
       "<style scoped>\n",
       "    .dataframe tbody tr th:only-of-type {\n",
       "        vertical-align: middle;\n",
       "    }\n",
       "\n",
       "    .dataframe tbody tr th {\n",
       "        vertical-align: top;\n",
       "    }\n",
       "\n",
       "    .dataframe thead th {\n",
       "        text-align: right;\n",
       "    }\n",
       "</style>\n",
       "<table border=\"1\" class=\"dataframe\">\n",
       "  <thead>\n",
       "    <tr style=\"text-align: right;\">\n",
       "      <th></th>\n",
       "      <th>customer_id</th>\n",
       "      <th>product_parent</th>\n",
       "      <th>star_rating</th>\n",
       "      <th>helpful_votes</th>\n",
       "      <th>total_votes</th>\n",
       "      <th>review_length</th>\n",
       "      <th>helpfulness</th>\n",
       "    </tr>\n",
       "  </thead>\n",
       "  <tbody>\n",
       "    <tr>\n",
       "      <th>customer_id</th>\n",
       "      <td>1.000000</td>\n",
       "      <td>0.004039</td>\n",
       "      <td>NaN</td>\n",
       "      <td>0.058127</td>\n",
       "      <td>0.067825</td>\n",
       "      <td>0.102535</td>\n",
       "      <td>0.104187</td>\n",
       "    </tr>\n",
       "    <tr>\n",
       "      <th>product_parent</th>\n",
       "      <td>0.004039</td>\n",
       "      <td>1.000000</td>\n",
       "      <td>NaN</td>\n",
       "      <td>-0.004625</td>\n",
       "      <td>-0.007419</td>\n",
       "      <td>-0.007528</td>\n",
       "      <td>-0.008528</td>\n",
       "    </tr>\n",
       "    <tr>\n",
       "      <th>star_rating</th>\n",
       "      <td>NaN</td>\n",
       "      <td>NaN</td>\n",
       "      <td>NaN</td>\n",
       "      <td>NaN</td>\n",
       "      <td>NaN</td>\n",
       "      <td>NaN</td>\n",
       "      <td>NaN</td>\n",
       "    </tr>\n",
       "    <tr>\n",
       "      <th>helpful_votes</th>\n",
       "      <td>0.058127</td>\n",
       "      <td>-0.004625</td>\n",
       "      <td>NaN</td>\n",
       "      <td>1.000000</td>\n",
       "      <td>0.923683</td>\n",
       "      <td>0.221298</td>\n",
       "      <td>0.456130</td>\n",
       "    </tr>\n",
       "    <tr>\n",
       "      <th>total_votes</th>\n",
       "      <td>0.067825</td>\n",
       "      <td>-0.007419</td>\n",
       "      <td>NaN</td>\n",
       "      <td>0.923683</td>\n",
       "      <td>1.000000</td>\n",
       "      <td>0.227687</td>\n",
       "      <td>0.420123</td>\n",
       "    </tr>\n",
       "    <tr>\n",
       "      <th>review_length</th>\n",
       "      <td>0.102535</td>\n",
       "      <td>-0.007528</td>\n",
       "      <td>NaN</td>\n",
       "      <td>0.221298</td>\n",
       "      <td>0.227687</td>\n",
       "      <td>1.000000</td>\n",
       "      <td>0.269128</td>\n",
       "    </tr>\n",
       "    <tr>\n",
       "      <th>helpfulness</th>\n",
       "      <td>0.104187</td>\n",
       "      <td>-0.008528</td>\n",
       "      <td>NaN</td>\n",
       "      <td>0.456130</td>\n",
       "      <td>0.420123</td>\n",
       "      <td>0.269128</td>\n",
       "      <td>1.000000</td>\n",
       "    </tr>\n",
       "  </tbody>\n",
       "</table>\n",
       "</div>"
      ],
      "text/plain": [
       "                customer_id  product_parent  ...  review_length  helpfulness\n",
       "customer_id        1.000000        0.004039  ...       0.102535     0.104187\n",
       "product_parent     0.004039        1.000000  ...      -0.007528    -0.008528\n",
       "star_rating             NaN             NaN  ...            NaN          NaN\n",
       "helpful_votes      0.058127       -0.004625  ...       0.221298     0.456130\n",
       "total_votes        0.067825       -0.007419  ...       0.227687     0.420123\n",
       "review_length      0.102535       -0.007528  ...       1.000000     0.269128\n",
       "helpfulness        0.104187       -0.008528  ...       0.269128     1.000000\n",
       "\n",
       "[7 rows x 7 columns]"
      ]
     },
     "execution_count": 27,
     "metadata": {
      "tags": []
     },
     "output_type": "execute_result"
    }
   ],
   "source": [
    "df[df['star_rating'] == 3].corr()"
   ]
  },
  {
   "cell_type": "markdown",
   "metadata": {
    "colab_type": "text",
    "id": "yEAdSwcFnbAV"
   },
   "source": [
    "I do a density plot of helpfulness to see how much helpful a review is considered on an average."
   ]
  },
  {
   "cell_type": "code",
   "execution_count": 10,
   "metadata": {
    "ExecuteTime": {
     "end_time": "2019-10-31T00:02:43.897420Z",
     "start_time": "2019-10-31T00:02:43.447408Z"
    },
    "colab": {
     "base_uri": "https://localhost:8080/",
     "height": 298
    },
    "colab_type": "code",
    "id": "_qFoVtFBndoD",
    "outputId": "c467f3b9-044a-4bad-e306-1ea63726ebd8"
   },
   "outputs": [
    {
     "data": {
      "text/plain": [
       "<matplotlib.axes._subplots.AxesSubplot at 0x115eb6a20>"
      ]
     },
     "execution_count": 10,
     "metadata": {},
     "output_type": "execute_result"
    },
    {
     "data": {
      "image/png": "[encoded data removed]",
      "text/plain": [
       "<Figure size 432x288 with 1 Axes>"
      ]
     },
     "metadata": {},
     "output_type": "display_data"
    }
   ],
   "source": [
    "import matplotlib.pyplot as plt\n",
    "import seaborn as sns\n",
    "\n",
    "hdf = df[df['helpfulness'] > 0]\n",
    "plt.style.use('seaborn-dark')\n",
    "\n",
    "sns.distplot(hdf['helpfulness'], hist=False, kde=True, color = 'darkblue')\n",
    "sns.distplot(hdf[hdf['star_rating'] == 1]['helpfulness'], hist=False, kde=True, color = 'red')\n",
    "sns.distplot(hdf[hdf['star_rating'] == 3]['helpfulness'], hist=False, kde=True, color = 'green') # looks like most ratings are 5 star\n"
   ]
  },
  {
   "cell_type": "markdown",
   "metadata": {
    "colab_type": "text",
    "id": "vhmBCCu0w4VQ"
   },
   "source": [
    "It seems like most reviews are considered helpful only by 50% of people voting. This is specially true for higher rated reviews. **Since there is no universal agreement on helpfulness, we may not get a very good predictor.**"
   ]
  },
  {
   "cell_type": "markdown",
   "metadata": {
    "colab_type": "text",
    "id": "SRIIK57uxS9W"
   },
   "source": [
    "Next I consider the time factor. I want to see if helpfulness goes up with time."
   ]
  },
  {
   "cell_type": "code",
   "execution_count": 11,
   "metadata": {
    "ExecuteTime": {
     "end_time": "2019-10-31T00:09:24.509936Z",
     "start_time": "2019-10-31T00:09:21.883539Z"
    },
    "colab": {
     "base_uri": "https://localhost:8080/",
     "height": 392
    },
    "colab_type": "code",
    "id": "qYvRr5vKrloV",
    "outputId": "184d466d-846d-4a7a-c873-cfc94d836949"
   },
   "outputs": [
    {
     "name": "stderr",
     "output_type": "stream",
     "text": [
      "/Users/emilolbinado/anaconda3/lib/python3.6/site-packages/ipykernel_launcher.py:2: SettingWithCopyWarning: \n",
      "A value is trying to be set on a copy of a slice from a DataFrame.\n",
      "Try using .loc[row_indexer,col_indexer] = value instead\n",
      "\n",
      "See the caveats in the documentation: http://pandas.pydata.org/pandas-docs/stable/user_guide/indexing.html#returning-a-view-versus-a-copy\n",
      "  \n"
     ]
    },
    {
     "data": {
      "text/html": [
       "<div>\n",
       "<style scoped>\n",
       "    .dataframe tbody tr th:only-of-type {\n",
       "        vertical-align: middle;\n",
       "    }\n",
       "\n",
       "    .dataframe tbody tr th {\n",
       "        vertical-align: top;\n",
       "    }\n",
       "\n",
       "    .dataframe thead th {\n",
       "        text-align: right;\n",
       "    }\n",
       "</style>\n",
       "<table border=\"1\" class=\"dataframe\">\n",
       "  <thead>\n",
       "    <tr style=\"text-align: right;\">\n",
       "      <th></th>\n",
       "      <th>customer_id</th>\n",
       "      <th>product_parent</th>\n",
       "      <th>star_rating</th>\n",
       "      <th>helpful_votes</th>\n",
       "      <th>total_votes</th>\n",
       "      <th>review_length</th>\n",
       "      <th>helpfulness</th>\n",
       "      <th>date_diff</th>\n",
       "    </tr>\n",
       "  </thead>\n",
       "  <tbody>\n",
       "    <tr>\n",
       "      <td>customer_id</td>\n",
       "      <td>1.000000</td>\n",
       "      <td>0.000034</td>\n",
       "      <td>-0.037528</td>\n",
       "      <td>0.040133</td>\n",
       "      <td>0.040325</td>\n",
       "      <td>0.085582</td>\n",
       "      <td>0.051796</td>\n",
       "      <td>0.125311</td>\n",
       "    </tr>\n",
       "    <tr>\n",
       "      <td>product_parent</td>\n",
       "      <td>0.000034</td>\n",
       "      <td>1.000000</td>\n",
       "      <td>0.003905</td>\n",
       "      <td>-0.004624</td>\n",
       "      <td>-0.004382</td>\n",
       "      <td>0.000466</td>\n",
       "      <td>-0.005648</td>\n",
       "      <td>0.008587</td>\n",
       "    </tr>\n",
       "    <tr>\n",
       "      <td>star_rating</td>\n",
       "      <td>-0.037528</td>\n",
       "      <td>0.003905</td>\n",
       "      <td>1.000000</td>\n",
       "      <td>-0.082238</td>\n",
       "      <td>-0.225154</td>\n",
       "      <td>-0.026916</td>\n",
       "      <td>0.191307</td>\n",
       "      <td>-0.074138</td>\n",
       "    </tr>\n",
       "    <tr>\n",
       "      <td>helpful_votes</td>\n",
       "      <td>0.040133</td>\n",
       "      <td>-0.004624</td>\n",
       "      <td>-0.082238</td>\n",
       "      <td>1.000000</td>\n",
       "      <td>0.890151</td>\n",
       "      <td>0.204948</td>\n",
       "      <td>0.356666</td>\n",
       "      <td>0.097326</td>\n",
       "    </tr>\n",
       "    <tr>\n",
       "      <td>total_votes</td>\n",
       "      <td>0.040325</td>\n",
       "      <td>-0.004382</td>\n",
       "      <td>-0.225154</td>\n",
       "      <td>0.890151</td>\n",
       "      <td>1.000000</td>\n",
       "      <td>0.178614</td>\n",
       "      <td>0.148472</td>\n",
       "      <td>0.116752</td>\n",
       "    </tr>\n",
       "    <tr>\n",
       "      <td>review_length</td>\n",
       "      <td>0.085582</td>\n",
       "      <td>0.000466</td>\n",
       "      <td>-0.026916</td>\n",
       "      <td>0.204948</td>\n",
       "      <td>0.178614</td>\n",
       "      <td>1.000000</td>\n",
       "      <td>0.168201</td>\n",
       "      <td>0.127628</td>\n",
       "    </tr>\n",
       "    <tr>\n",
       "      <td>helpfulness</td>\n",
       "      <td>0.051796</td>\n",
       "      <td>-0.005648</td>\n",
       "      <td>0.191307</td>\n",
       "      <td>0.356666</td>\n",
       "      <td>0.148472</td>\n",
       "      <td>0.168201</td>\n",
       "      <td>1.000000</td>\n",
       "      <td>0.098654</td>\n",
       "    </tr>\n",
       "    <tr>\n",
       "      <td>date_diff</td>\n",
       "      <td>0.125311</td>\n",
       "      <td>0.008587</td>\n",
       "      <td>-0.074138</td>\n",
       "      <td>0.097326</td>\n",
       "      <td>0.116752</td>\n",
       "      <td>0.127628</td>\n",
       "      <td>0.098654</td>\n",
       "      <td>1.000000</td>\n",
       "    </tr>\n",
       "  </tbody>\n",
       "</table>\n",
       "</div>"
      ],
      "text/plain": [
       "                customer_id  product_parent  star_rating  helpful_votes  \\\n",
       "customer_id        1.000000        0.000034    -0.037528       0.040133   \n",
       "product_parent     0.000034        1.000000     0.003905      -0.004624   \n",
       "star_rating       -0.037528        0.003905     1.000000      -0.082238   \n",
       "helpful_votes      0.040133       -0.004624    -0.082238       1.000000   \n",
       "total_votes        0.040325       -0.004382    -0.225154       0.890151   \n",
       "review_length      0.085582        0.000466    -0.026916       0.204948   \n",
       "helpfulness        0.051796       -0.005648     0.191307       0.356666   \n",
       "date_diff          0.125311        0.008587    -0.074138       0.097326   \n",
       "\n",
       "                total_votes  review_length  helpfulness  date_diff  \n",
       "customer_id        0.040325       0.085582     0.051796   0.125311  \n",
       "product_parent    -0.004382       0.000466    -0.005648   0.008587  \n",
       "star_rating       -0.225154      -0.026916     0.191307  -0.074138  \n",
       "helpful_votes      0.890151       0.204948     0.356666   0.097326  \n",
       "total_votes        1.000000       0.178614     0.148472   0.116752  \n",
       "review_length      0.178614       1.000000     0.168201   0.127628  \n",
       "helpfulness        0.148472       0.168201     1.000000   0.098654  \n",
       "date_diff          0.116752       0.127628     0.098654   1.000000  "
      ]
     },
     "execution_count": 11,
     "metadata": {},
     "output_type": "execute_result"
    }
   ],
   "source": [
    "last_day = pd.to_datetime('2018-01-01')\n",
    "hdf['date_diff'] = (last_day - pd.to_datetime(hdf['review_date'])).map(lambda x: x.days)\n",
    "hdf.corr()"
   ]
  },
  {
   "cell_type": "code",
   "execution_count": 14,
   "metadata": {
    "ExecuteTime": {
     "end_time": "2019-10-31T00:13:54.969544Z",
     "start_time": "2019-10-31T00:13:54.890542Z"
    }
   },
   "outputs": [
    {
     "data": {
      "text/html": [
       "<div>\n",
       "<style scoped>\n",
       "    .dataframe tbody tr th:only-of-type {\n",
       "        vertical-align: middle;\n",
       "    }\n",
       "\n",
       "    .dataframe tbody tr th {\n",
       "        vertical-align: top;\n",
       "    }\n",
       "\n",
       "    .dataframe thead th {\n",
       "        text-align: right;\n",
       "    }\n",
       "</style>\n",
       "<table border=\"1\" class=\"dataframe\">\n",
       "  <thead>\n",
       "    <tr style=\"text-align: right;\">\n",
       "      <th></th>\n",
       "      <th>marketplace</th>\n",
       "      <th>customer_id</th>\n",
       "      <th>review_id</th>\n",
       "      <th>product_id</th>\n",
       "      <th>product_parent</th>\n",
       "      <th>product_title</th>\n",
       "      <th>product_category</th>\n",
       "      <th>star_rating</th>\n",
       "      <th>helpful_votes</th>\n",
       "      <th>total_votes</th>\n",
       "      <th>vine</th>\n",
       "      <th>verified_purchase</th>\n",
       "      <th>review_headline</th>\n",
       "      <th>review_body</th>\n",
       "      <th>review_date</th>\n",
       "      <th>review_length</th>\n",
       "      <th>helpfulness</th>\n",
       "      <th>date_diff</th>\n",
       "    </tr>\n",
       "  </thead>\n",
       "  <tbody>\n",
       "    <tr>\n",
       "      <td>7</td>\n",
       "      <td>US</td>\n",
       "      <td>12223745</td>\n",
       "      <td>R33X0DGA4PPQ3L</td>\n",
       "      <td>B013XBYQOS</td>\n",
       "      <td>137980344</td>\n",
       "      <td>All of the Stars</td>\n",
       "      <td>Digital_Music_Purchase</td>\n",
       "      <td>5</td>\n",
       "      <td>3</td>\n",
       "      <td>3</td>\n",
       "      <td>N</td>\n",
       "      <td>N</td>\n",
       "      <td>long awaited treat!</td>\n",
       "      <td>For some reason I often do not catch the lyric...</td>\n",
       "      <td>2015-08-31</td>\n",
       "      <td>275</td>\n",
       "      <td>0.750000</td>\n",
       "      <td>854</td>\n",
       "    </tr>\n",
       "    <tr>\n",
       "      <td>11</td>\n",
       "      <td>US</td>\n",
       "      <td>49207156</td>\n",
       "      <td>R38Z7XMCVDR0R5</td>\n",
       "      <td>B014EQE0V0</td>\n",
       "      <td>714368268</td>\n",
       "      <td>You Hold It All (Live)</td>\n",
       "      <td>Digital_Music_Purchase</td>\n",
       "      <td>5</td>\n",
       "      <td>1</td>\n",
       "      <td>1</td>\n",
       "      <td>N</td>\n",
       "      <td>Y</td>\n",
       "      <td>Five Stars</td>\n",
       "      <td>Inspired by this music, it is a testament to G...</td>\n",
       "      <td>2015-08-31</td>\n",
       "      <td>65</td>\n",
       "      <td>0.500000</td>\n",
       "      <td>854</td>\n",
       "    </tr>\n",
       "    <tr>\n",
       "      <td>13</td>\n",
       "      <td>US</td>\n",
       "      <td>22612468</td>\n",
       "      <td>R3QO6Z942CKH34</td>\n",
       "      <td>B00ZZDJAX0</td>\n",
       "      <td>162295903</td>\n",
       "      <td>What Are The Chances?</td>\n",
       "      <td>Digital_Music_Purchase</td>\n",
       "      <td>5</td>\n",
       "      <td>1</td>\n",
       "      <td>1</td>\n",
       "      <td>N</td>\n",
       "      <td>Y</td>\n",
       "      <td>Awesome song</td>\n",
       "      <td>Great song off the new album...probably one of...</td>\n",
       "      <td>2015-08-31</td>\n",
       "      <td>67</td>\n",
       "      <td>0.500000</td>\n",
       "      <td>854</td>\n",
       "    </tr>\n",
       "    <tr>\n",
       "      <td>39</td>\n",
       "      <td>US</td>\n",
       "      <td>39466736</td>\n",
       "      <td>R2GO23IL4Y8RH2</td>\n",
       "      <td>B000WXVL6W</td>\n",
       "      <td>461578630</td>\n",
       "      <td>Prayer Of The Refugee</td>\n",
       "      <td>Digital_Music_Purchase</td>\n",
       "      <td>5</td>\n",
       "      <td>1</td>\n",
       "      <td>1</td>\n",
       "      <td>N</td>\n",
       "      <td>Y</td>\n",
       "      <td>Five Stars</td>\n",
       "      <td>great</td>\n",
       "      <td>2015-08-31</td>\n",
       "      <td>5</td>\n",
       "      <td>0.500000</td>\n",
       "      <td>854</td>\n",
       "    </tr>\n",
       "    <tr>\n",
       "      <td>43</td>\n",
       "      <td>US</td>\n",
       "      <td>31276512</td>\n",
       "      <td>RCL7WJHCGV9AS</td>\n",
       "      <td>B00X7DT2QU</td>\n",
       "      <td>595883955</td>\n",
       "      <td>I'll Be the Other Man</td>\n",
       "      <td>Digital_Music_Purchase</td>\n",
       "      <td>3</td>\n",
       "      <td>1</td>\n",
       "      <td>1</td>\n",
       "      <td>N</td>\n",
       "      <td>Y</td>\n",
       "      <td>Would enjoy it better without the skipping in it</td>\n",
       "      <td>Would enjoy it better without the skipping in ...</td>\n",
       "      <td>2015-08-31</td>\n",
       "      <td>111</td>\n",
       "      <td>0.500000</td>\n",
       "      <td>854</td>\n",
       "    </tr>\n",
       "    <tr>\n",
       "      <td>...</td>\n",
       "      <td>...</td>\n",
       "      <td>...</td>\n",
       "      <td>...</td>\n",
       "      <td>...</td>\n",
       "      <td>...</td>\n",
       "      <td>...</td>\n",
       "      <td>...</td>\n",
       "      <td>...</td>\n",
       "      <td>...</td>\n",
       "      <td>...</td>\n",
       "      <td>...</td>\n",
       "      <td>...</td>\n",
       "      <td>...</td>\n",
       "      <td>...</td>\n",
       "      <td>...</td>\n",
       "      <td>...</td>\n",
       "      <td>...</td>\n",
       "      <td>...</td>\n",
       "    </tr>\n",
       "    <tr>\n",
       "      <td>1688858</td>\n",
       "      <td>US</td>\n",
       "      <td>25527589</td>\n",
       "      <td>R2KTO10JPR9BVJ</td>\n",
       "      <td>B000QQR9JS</td>\n",
       "      <td>14662361</td>\n",
       "      <td>Handel: Organ Concertos, Op. 4, Nos. 1-6</td>\n",
       "      <td>Digital_Music_Purchase</td>\n",
       "      <td>5</td>\n",
       "      <td>1</td>\n",
       "      <td>1</td>\n",
       "      <td>N</td>\n",
       "      <td>N</td>\n",
       "      <td>Handel: Organ Concertos, Op. 4, Nos. 1-6</td>\n",
       "      <td>Handel: Organ Concertos, Op. 4, Nos. 1-6 is a ...</td>\n",
       "      <td>2005-12-18</td>\n",
       "      <td>417</td>\n",
       "      <td>0.500000</td>\n",
       "      <td>4397</td>\n",
       "    </tr>\n",
       "    <tr>\n",
       "      <td>1688860</td>\n",
       "      <td>US</td>\n",
       "      <td>51184997</td>\n",
       "      <td>R3QLV1ZU4KRZYT</td>\n",
       "      <td>B000V6OLEY</td>\n",
       "      <td>127449851</td>\n",
       "      <td>Copland: Symphony No. 3; Quiet City</td>\n",
       "      <td>Digital_Music_Purchase</td>\n",
       "      <td>5</td>\n",
       "      <td>1</td>\n",
       "      <td>1</td>\n",
       "      <td>N</td>\n",
       "      <td>N</td>\n",
       "      <td>The best Bernstein reading of a nearly great work</td>\n",
       "      <td>Copland met a sad end as the result of Alzheim...</td>\n",
       "      <td>2005-11-01</td>\n",
       "      <td>2135</td>\n",
       "      <td>0.500000</td>\n",
       "      <td>4444</td>\n",
       "    </tr>\n",
       "    <tr>\n",
       "      <td>1688870</td>\n",
       "      <td>US</td>\n",
       "      <td>31390335</td>\n",
       "      <td>R2K3MF6O056DMG</td>\n",
       "      <td>B000WQPTLM</td>\n",
       "      <td>465268859</td>\n",
       "      <td>Blue Moves</td>\n",
       "      <td>Digital_Music_Purchase</td>\n",
       "      <td>4</td>\n",
       "      <td>1</td>\n",
       "      <td>1</td>\n",
       "      <td>N</td>\n",
       "      <td>N</td>\n",
       "      <td>The 'Topographic Oceans' of pop music</td>\n",
       "      <td>See, Elton's double album was his best after a...</td>\n",
       "      <td>2004-01-07</td>\n",
       "      <td>2887</td>\n",
       "      <td>0.500000</td>\n",
       "      <td>5108</td>\n",
       "    </tr>\n",
       "    <tr>\n",
       "      <td>1688874</td>\n",
       "      <td>US</td>\n",
       "      <td>53016962</td>\n",
       "      <td>R2H3P9OQZT6QIS</td>\n",
       "      <td>B00138KFV2</td>\n",
       "      <td>18809497</td>\n",
       "      <td>The Bootleg Series Volumes 1-3 (Rare And Unrel...</td>\n",
       "      <td>Digital_Music_Purchase</td>\n",
       "      <td>5</td>\n",
       "      <td>2</td>\n",
       "      <td>2</td>\n",
       "      <td>N</td>\n",
       "      <td>N</td>\n",
       "      <td>The cornerstone of my Dylan collection</td>\n",
       "      <td>This box set of The Bootleg Series volumes 1-3...</td>\n",
       "      <td>2003-04-14</td>\n",
       "      <td>5092</td>\n",
       "      <td>0.666667</td>\n",
       "      <td>5376</td>\n",
       "    </tr>\n",
       "    <tr>\n",
       "      <td>1688878</td>\n",
       "      <td>US</td>\n",
       "      <td>42965654</td>\n",
       "      <td>R275QFEB630VK1</td>\n",
       "      <td>B000QZX6X2</td>\n",
       "      <td>903621954</td>\n",
       "      <td>Chameleon</td>\n",
       "      <td>Digital_Music_Purchase</td>\n",
       "      <td>3</td>\n",
       "      <td>1</td>\n",
       "      <td>1</td>\n",
       "      <td>N</td>\n",
       "      <td>N</td>\n",
       "      <td>Japanese Chameleon</td>\n",
       "      <td>This album was originally released in Japan in...</td>\n",
       "      <td>2002-06-20</td>\n",
       "      <td>725</td>\n",
       "      <td>0.500000</td>\n",
       "      <td>5674</td>\n",
       "    </tr>\n",
       "  </tbody>\n",
       "</table>\n",
       "<p>317720 rows × 18 columns</p>\n",
       "</div>"
      ],
      "text/plain": [
       "        marketplace  customer_id       review_id  product_id  product_parent  \\\n",
       "7                US     12223745  R33X0DGA4PPQ3L  B013XBYQOS       137980344   \n",
       "11               US     49207156  R38Z7XMCVDR0R5  B014EQE0V0       714368268   \n",
       "13               US     22612468  R3QO6Z942CKH34  B00ZZDJAX0       162295903   \n",
       "39               US     39466736  R2GO23IL4Y8RH2  B000WXVL6W       461578630   \n",
       "43               US     31276512   RCL7WJHCGV9AS  B00X7DT2QU       595883955   \n",
       "...             ...          ...             ...         ...             ...   \n",
       "1688858          US     25527589  R2KTO10JPR9BVJ  B000QQR9JS        14662361   \n",
       "1688860          US     51184997  R3QLV1ZU4KRZYT  B000V6OLEY       127449851   \n",
       "1688870          US     31390335  R2K3MF6O056DMG  B000WQPTLM       465268859   \n",
       "1688874          US     53016962  R2H3P9OQZT6QIS  B00138KFV2        18809497   \n",
       "1688878          US     42965654  R275QFEB630VK1  B000QZX6X2       903621954   \n",
       "\n",
       "                                             product_title  \\\n",
       "7                                         All of the Stars   \n",
       "11                                  You Hold It All (Live)   \n",
       "13                                   What Are The Chances?   \n",
       "39                                   Prayer Of The Refugee   \n",
       "43                                   I'll Be the Other Man   \n",
       "...                                                    ...   \n",
       "1688858           Handel: Organ Concertos, Op. 4, Nos. 1-6   \n",
       "1688860                Copland: Symphony No. 3; Quiet City   \n",
       "1688870                                         Blue Moves   \n",
       "1688874  The Bootleg Series Volumes 1-3 (Rare And Unrel...   \n",
       "1688878                                          Chameleon   \n",
       "\n",
       "               product_category  star_rating  helpful_votes  total_votes vine  \\\n",
       "7        Digital_Music_Purchase            5              3            3    N   \n",
       "11       Digital_Music_Purchase            5              1            1    N   \n",
       "13       Digital_Music_Purchase            5              1            1    N   \n",
       "39       Digital_Music_Purchase            5              1            1    N   \n",
       "43       Digital_Music_Purchase            3              1            1    N   \n",
       "...                         ...          ...            ...          ...  ...   \n",
       "1688858  Digital_Music_Purchase            5              1            1    N   \n",
       "1688860  Digital_Music_Purchase            5              1            1    N   \n",
       "1688870  Digital_Music_Purchase            4              1            1    N   \n",
       "1688874  Digital_Music_Purchase            5              2            2    N   \n",
       "1688878  Digital_Music_Purchase            3              1            1    N   \n",
       "\n",
       "        verified_purchase                                    review_headline  \\\n",
       "7                       N                                long awaited treat!   \n",
       "11                      Y                                         Five Stars   \n",
       "13                      Y                                       Awesome song   \n",
       "39                      Y                                         Five Stars   \n",
       "43                      Y   Would enjoy it better without the skipping in it   \n",
       "...                   ...                                                ...   \n",
       "1688858                 N           Handel: Organ Concertos, Op. 4, Nos. 1-6   \n",
       "1688860                 N  The best Bernstein reading of a nearly great work   \n",
       "1688870                 N              The 'Topographic Oceans' of pop music   \n",
       "1688874                 N             The cornerstone of my Dylan collection   \n",
       "1688878                 N                                 Japanese Chameleon   \n",
       "\n",
       "                                               review_body review_date  \\\n",
       "7        For some reason I often do not catch the lyric...  2015-08-31   \n",
       "11       Inspired by this music, it is a testament to G...  2015-08-31   \n",
       "13       Great song off the new album...probably one of...  2015-08-31   \n",
       "39                                                   great  2015-08-31   \n",
       "43       Would enjoy it better without the skipping in ...  2015-08-31   \n",
       "...                                                    ...         ...   \n",
       "1688858  Handel: Organ Concertos, Op. 4, Nos. 1-6 is a ...  2005-12-18   \n",
       "1688860  Copland met a sad end as the result of Alzheim...  2005-11-01   \n",
       "1688870  See, Elton's double album was his best after a...  2004-01-07   \n",
       "1688874  This box set of The Bootleg Series volumes 1-3...  2003-04-14   \n",
       "1688878  This album was originally released in Japan in...  2002-06-20   \n",
       "\n",
       "         review_length  helpfulness  date_diff  \n",
       "7                  275     0.750000        854  \n",
       "11                  65     0.500000        854  \n",
       "13                  67     0.500000        854  \n",
       "39                   5     0.500000        854  \n",
       "43                 111     0.500000        854  \n",
       "...                ...          ...        ...  \n",
       "1688858            417     0.500000       4397  \n",
       "1688860           2135     0.500000       4444  \n",
       "1688870           2887     0.500000       5108  \n",
       "1688874           5092     0.666667       5376  \n",
       "1688878            725     0.500000       5674  \n",
       "\n",
       "[317720 rows x 18 columns]"
      ]
     },
     "execution_count": 14,
     "metadata": {},
     "output_type": "execute_result"
    }
   ],
   "source": [
    "hdf"
   ]
  },
  {
   "cell_type": "code",
   "execution_count": 12,
   "metadata": {
    "ExecuteTime": {
     "end_time": "2019-10-31T00:12:43.146690Z",
     "start_time": "2019-10-31T00:12:40.416514Z"
    },
    "colab": {
     "base_uri": "https://localhost:8080/",
     "height": 297
    },
    "colab_type": "code",
    "id": "R9oZ7Qb0w9VB",
    "outputId": "2a8ae8f2-d00d-4ad3-af36-32fe77f60910"
   },
   "outputs": [
    {
     "data": {
      "text/plain": [
       "<matplotlib.axes._subplots.AxesSubplot at 0x115f3fa58>"
      ]
     },
     "execution_count": 12,
     "metadata": {},
     "output_type": "execute_result"
    },
    {
     "data": {
      "image/png": "[encoded data removed]",
      "text/plain": [
       "<Figure size 432x288 with 1 Axes>"
      ]
     },
     "metadata": {},
     "output_type": "display_data"
    }
   ],
   "source": [
    "hdf.plot.scatter('date_diff', 'helpful_votes')"
   ]
  },
  {
   "cell_type": "code",
   "execution_count": 13,
   "metadata": {
    "ExecuteTime": {
     "end_time": "2019-10-31T00:13:12.259254Z",
     "start_time": "2019-10-31T00:13:09.633751Z"
    },
    "colab": {
     "base_uri": "https://localhost:8080/",
     "height": 297
    },
    "colab_type": "code",
    "id": "811l7mKi2iEg",
    "outputId": "862d3f11-83b6-4b57-eb40-5df295067d88"
   },
   "outputs": [
    {
     "data": {
      "text/plain": [
       "<matplotlib.axes._subplots.AxesSubplot at 0x115fcb978>"
      ]
     },
     "execution_count": 13,
     "metadata": {},
     "output_type": "execute_result"
    },
    {
     "data": {
      "image/png": "[encoded data removed]",
      "text/plain": [
       "<Figure size 432x288 with 1 Axes>"
      ]
     },
     "metadata": {},
     "output_type": "display_data"
    }
   ],
   "source": [
    "hdf.plot.scatter('date_diff', 'total_votes')"
   ]
  },
  {
   "cell_type": "markdown",
   "metadata": {
    "colab_type": "text",
    "id": "qeArv6OuxqAH"
   },
   "source": [
    "From the plots, and correlations, it does not look like helpfulness or total_votes depend a lot on time, specially when looked at a long time scale.\n",
    "\n",
    "Next, I check the length of the reviews."
   ]
  },
  {
   "cell_type": "code",
   "execution_count": 15,
   "metadata": {
    "ExecuteTime": {
     "end_time": "2019-10-31T00:17:23.240931Z",
     "start_time": "2019-10-31T00:17:20.458967Z"
    },
    "colab": {
     "base_uri": "https://localhost:8080/",
     "height": 297
    },
    "colab_type": "code",
    "id": "NoFZo3YX2vrP",
    "outputId": "96ae05ec-fa04-42a8-8ffe-4a3f6c629469"
   },
   "outputs": [
    {
     "data": {
      "text/plain": [
       "<matplotlib.axes._subplots.AxesSubplot at 0x116059b70>"
      ]
     },
     "execution_count": 15,
     "metadata": {},
     "output_type": "execute_result"
    },
    {
     "data": {
      "image/png": "[encoded data removed]",
      "text/plain": [
       "<Figure size 432x288 with 1 Axes>"
      ]
     },
     "metadata": {},
     "output_type": "display_data"
    }
   ],
   "source": [
    "hdf.plot.scatter('review_length', 'helpful_votes')"
   ]
  },
  {
   "cell_type": "code",
   "execution_count": 16,
   "metadata": {
    "ExecuteTime": {
     "end_time": "2019-10-31T00:17:39.056324Z",
     "start_time": "2019-10-31T00:17:38.526523Z"
    },
    "colab": {
     "base_uri": "https://localhost:8080/",
     "height": 297
    },
    "colab_type": "code",
    "id": "yT-WTDI-23Qm",
    "outputId": "cf780f41-a4ad-4d05-bc48-be3507709c96"
   },
   "outputs": [
    {
     "data": {
      "text/plain": [
       "(0, 10000)"
      ]
     },
     "execution_count": 16,
     "metadata": {},
     "output_type": "execute_result"
    },
    {
     "data": {
      "image/png": "[encoded data removed]",
      "text/plain": [
       "<Figure size 432x288 with 1 Axes>"
      ]
     },
     "metadata": {},
     "output_type": "display_data"
    }
   ],
   "source": [
    "sns.distplot(hdf['review_length'], hist=False, kde=True, color = 'darkblue')\n",
    "p1 = sns.distplot(df['review_length'], hist=False, kde=True, color = 'red')\n",
    "\n",
    "p1.set_xlim(0, 10000)"
   ]
  },
  {
   "cell_type": "markdown",
   "metadata": {
    "colab_type": "text",
    "id": "JVjyEsQZyBG_"
   },
   "source": [
    "Most reviews tend to be 1000 characters long. Very long reviews do not seem very helpful.\n",
    "\n",
    "Lastly before starting to build any models, I look at the distribution of helpful votes, and it seems to be exponentially decaying."
   ]
  },
  {
   "cell_type": "code",
   "execution_count": 17,
   "metadata": {
    "ExecuteTime": {
     "end_time": "2019-10-31T00:22:13.109642Z",
     "start_time": "2019-10-31T00:22:12.616907Z"
    },
    "colab": {
     "base_uri": "https://localhost:8080/",
     "height": 282
    },
    "colab_type": "code",
    "id": "hYvCtzOqsMmR",
    "outputId": "563ea08d-0c5a-4273-a9bf-e572d1475b40"
   },
   "outputs": [
    {
     "data": {
      "text/plain": [
       "<matplotlib.axes._subplots.AxesSubplot at 0x116162ac8>"
      ]
     },
     "execution_count": 17,
     "metadata": {},
     "output_type": "execute_result"
    },
    {
     "data": {
      "image/png": "[encoded data removed]",
      "text/plain": [
       "<Figure size 432x288 with 1 Axes>"
      ]
     },
     "metadata": {},
     "output_type": "display_data"
    }
   ],
   "source": [
    "df[\"helpful_votes\"].where(df[\"helpful_votes\"] > 0).where(df[\"helpful_votes\"] <= 40).plot.hist(bins=40)"
   ]
  },
  {
   "cell_type": "markdown",
   "metadata": {
    "colab_type": "text",
    "id": "3TKeJUIUgRz5"
   },
   "source": [
    "# **ML Model for rating**\n",
    "\n",
    "For my first model, I just append review title to the body, giving them equal weight and try. I can come back to this and play with the weightage. Title is likely to be more correlated with rating while body is more likely to be correlated with helpfulness.\n",
    "\n",
    "Also, I sample 100k points to start my modeling. If I get any success, I can come back and try bigger number.\n",
    "\n",
    "There are two ways to sample broadly speaking -\n",
    "\n",
    "1. Sample randomly across the entire dataset.\n",
    "2. Sample w.r.t some target variable.\n",
    "\n",
    "The former is supported by dataframe itself, and it is a simple method call. We start with that."
   ]
  },
  {
   "cell_type": "code",
   "execution_count": 18,
   "metadata": {
    "ExecuteTime": {
     "end_time": "2019-10-31T00:26:00.602297Z",
     "start_time": "2019-10-31T00:25:55.237052Z"
    },
    "colab": {},
    "colab_type": "code",
    "id": "8bHq6NOyPSOY"
   },
   "outputs": [],
   "source": [
    "df[\"text\"] = df[\"review_headline\"] + \" \" +\tdf[\"review_body\"]\n",
    "ndf = df.sample(n = 100000)\n"
   ]
  },
  {
   "cell_type": "code",
   "execution_count": 0,
   "metadata": {
    "colab": {},
    "colab_type": "code",
    "id": "cdML1T3iL5ST"
   },
   "outputs": [],
   "source": [
    "from sklearn.feature_extraction.text import TfidfVectorizer \n",
    "vect = TfidfVectorizer(min_df=10, max_df=0.9)              # Drop words which occur in less than 10 documents / > 90% of docs\n",
    "x = vect.fit_transform(ndf[\"text\"].values.astype('U'))"
   ]
  },
  {
   "cell_type": "code",
   "execution_count": 51,
   "metadata": {
    "colab": {
     "base_uri": "https://localhost:8080/",
     "height": 52
    },
    "colab_type": "code",
    "id": "MJbPD0uISJHN",
    "outputId": "f5f0a8be-76e9-41b3-c409-312cab921fd4"
   },
   "outputs": [
    {
     "name": "stdout",
     "output_type": "stream",
     "text": [
      "train score  0.6294390131204746\n"
     ]
    },
    {
     "data": {
      "text/plain": [
       "0.3526724219967453"
      ]
     },
     "execution_count": 51,
     "metadata": {
      "tags": []
     },
     "output_type": "execute_result"
    }
   ],
   "source": [
    "from sklearn.linear_model import LinearRegression\n",
    "from sklearn.model_selection import train_test_split\n",
    "from sklearn.metrics import r2_score\n",
    "\n",
    "X_train, X_test, y_train, y_test = train_test_split(x, ndf[\"star_rating\"], test_size=0.33)\n",
    "reg = LinearRegression().fit(X_train, y_train)\n",
    "\n",
    "predicted = reg.predict(X_train)\n",
    "print(\"train score \",r2_score(y_train, predicted))\n",
    "predicted = reg.predict(X_test)\n",
    "r2_score(y_test, predicted)"
   ]
  },
  {
   "cell_type": "markdown",
   "metadata": {
    "colab_type": "text",
    "id": "WUg01yUe93fZ"
   },
   "source": [
    "r-square on train itself is not great, and test seems to be doing even worse. There is quite a bit of overfitting here.\n",
    "\n",
    "  When I look at the number of samples from each class it does not look balanced. So I try with balancing first. This may not have much to do with the overfitting problem though."
   ]
  },
  {
   "cell_type": "code",
   "execution_count": 0,
   "metadata": {
    "colab": {},
    "colab_type": "code",
    "id": "aaFv48wDtxN9"
   },
   "outputs": [],
   "source": [
    "from imblearn.under_sampling import RandomUnderSampler \n",
    "\n",
    "# RandomUnderSampler tried to under sample the majority class / target variable, so that we get about equal number of observations.\n",
    "rus = RandomUnderSampler()\n",
    "nx, ny = rus.fit_resample(x, ndf[\"star_rating\"])"
   ]
  },
  {
   "cell_type": "code",
   "execution_count": 53,
   "metadata": {
    "colab": {
     "base_uri": "https://localhost:8080/",
     "height": 52
    },
    "colab_type": "code",
    "id": "290dLpCY-PDH",
    "outputId": "08fd0cdf-6f13-429c-b9eb-41a44957cbd0"
   },
   "outputs": [
    {
     "name": "stdout",
     "output_type": "stream",
     "text": [
      "train score  0.9965718395685184\n"
     ]
    },
    {
     "data": {
      "text/plain": [
       "-20.875558781363832"
      ]
     },
     "execution_count": 53,
     "metadata": {
      "tags": []
     },
     "output_type": "execute_result"
    }
   ],
   "source": [
    "X_train, X_test, y_train, y_test = train_test_split(nx, ny, test_size=0.33)\n",
    "reg = LinearRegression().fit(X_train, y_train)\n",
    "\n",
    "predicted = reg.predict(X_train)\n",
    "print(\"train score \",r2_score(y_train, predicted))\n",
    "predicted = reg.predict(X_test)\n",
    "r2_score(y_test, predicted)"
   ]
  },
  {
   "cell_type": "markdown",
   "metadata": {
    "colab_type": "text",
    "id": "TPHV36zI-kwo"
   },
   "source": [
    "I achieved near perfect score on training set but my test set shows super overfitting. When I downsampled, I reduced the number of training examples but I did not reduce number of features. Remember with number of features going up, I need more training samples to prevent overfitting.\n",
    "\n",
    "I will try LassoCV next. As this will try different values of alpha/lambda, and will try it for different k-folds. In total, it will run the regression multiple times. So, it may take considerable time. If I am short on time, I may want to check running Lasso directly first with some typical value of alpha - this may give me a sense if it is a direction worth exploring."
   ]
  },
  {
   "cell_type": "code",
   "execution_count": 54,
   "metadata": {
    "colab": {
     "base_uri": "https://localhost:8080/",
     "height": 106
    },
    "colab_type": "code",
    "id": "w4kdk91W_Nzq",
    "outputId": "2c1a4646-85c0-4236-d3cc-a56b39923112"
   },
   "outputs": [
    {
     "name": "stderr",
     "output_type": "stream",
     "text": [
      "/usr/local/lib/python3.6/dist-packages/sklearn/model_selection/_split.py:1978: FutureWarning: The default value of cv will change from 3 to 5 in version 0.22. Specify it explicitly to silence this warning.\n",
      "  warnings.warn(CV_WARNING, FutureWarning)\n"
     ]
    },
    {
     "name": "stdout",
     "output_type": "stream",
     "text": [
      "train score  0.6486529117299518\n"
     ]
    },
    {
     "data": {
      "text/plain": [
       "0.5148510605287281"
      ]
     },
     "execution_count": 54,
     "metadata": {
      "tags": []
     },
     "output_type": "execute_result"
    }
   ],
   "source": [
    "from sklearn.linear_model import LassoCV\n",
    "\n",
    "reg = LassoCV().fit(X_train, y_train)\n",
    "\n",
    "predicted = reg.predict(X_train)\n",
    "print(\"train score \",r2_score(y_train, predicted))\n",
    "predicted = reg.predict(X_test)\n",
    "r2_score(y_test, predicted)"
   ]
  },
  {
   "cell_type": "markdown",
   "metadata": {
    "colab_type": "text",
    "id": "j0FO_xdp_49C"
   },
   "source": [
    "There is less of overfitting now, but the result still does not look good.\n",
    "\n",
    "I can also apply LSA and select only top N dimensions, and try regression on that. This is likely to be much faster than lasso-cv."
   ]
  },
  {
   "cell_type": "code",
   "execution_count": 55,
   "metadata": {
    "colab": {
     "base_uri": "https://localhost:8080/",
     "height": 52
    },
    "colab_type": "code",
    "id": "r3Fpzw-wYtHV",
    "outputId": "3eba7000-d28d-4010-e9da-e26fe6f13fe0"
   },
   "outputs": [
    {
     "name": "stdout",
     "output_type": "stream",
     "text": [
      "train score  0.6441936290400068\n"
     ]
    },
    {
     "data": {
      "text/plain": [
       "0.5132158644123378"
      ]
     },
     "execution_count": 55,
     "metadata": {
      "tags": []
     },
     "output_type": "execute_result"
    }
   ],
   "source": [
    "from sklearn.decomposition import TruncatedSVD\n",
    "\n",
    "svd = TruncatedSVD(n_components=600, algorithm='arpack')\n",
    "new_x = svd.fit_transform(X_train)\n",
    "\n",
    "reg = LinearRegression().fit(new_x, y_train)\n",
    "\n",
    "predicted = reg.predict(new_x)\n",
    "print(\"train score \",r2_score(y_train, predicted))\n",
    "predicted = reg.predict(svd.transform(X_test))\n",
    "r2_score(y_test, predicted)"
   ]
  },
  {
   "cell_type": "code",
   "execution_count": 56,
   "metadata": {
    "colab": {
     "base_uri": "https://localhost:8080/",
     "height": 35
    },
    "colab_type": "code",
    "id": "2f3rv2xqC0Mj",
    "outputId": "76c9482e-18dc-4dbe-932c-4b979fc0689d"
   },
   "outputs": [
    {
     "data": {
      "text/plain": [
       "0.9789660628125536"
      ]
     },
     "execution_count": 56,
     "metadata": {
      "tags": []
     },
     "output_type": "execute_result"
    }
   ],
   "source": [
    "from sklearn.metrics import mean_squared_error\n",
    "import numpy as np\n",
    "\n",
    "(np.sqrt(mean_squared_error(y_test, predicted)))"
   ]
  },
  {
   "cell_type": "markdown",
   "metadata": {
    "colab_type": "text",
    "id": "WeiPXxwmAxVO"
   },
   "source": [
    "This is much faster and with comparable scores (to that of LassoCV). The RMSE is around 1. Since the ratings are also supposed to be noisy, my next hypothesis is that a difference between 4 and 5 may not be as clear, and so may be the case for rating of 2 and 1. 3 might be considered neutral, and I would put it with the group of 4 and 5.\n",
    "\n",
    "**In other words, I am looking at a binary value of customer happiness - also known as sentiment analysis.** I may choose to drop the neutral ratings here as well to get a more clearer boundary.  "
   ]
  },
  {
   "cell_type": "code",
   "execution_count": 0,
   "metadata": {
    "colab": {},
    "colab_type": "code",
    "id": "qNYrqE6CgGno"
   },
   "outputs": [],
   "source": [
    "ndf['polarity'] = ndf['star_rating'].apply(lambda x: 0 if x < 3 else 1)\n",
    "ny_train = [0 if x < 3 else 1 for x in y_train]\n",
    "ny_test = [0 if x < 3 else 1 for x in y_test]"
   ]
  },
  {
   "cell_type": "code",
   "execution_count": 0,
   "metadata": {
    "colab": {},
    "colab_type": "code",
    "id": "biMRWMc5WFPz"
   },
   "outputs": [],
   "source": [
    "from sklearn.feature_selection import SelectKBest, f_regression\n",
    "\n",
    "selector = SelectKBest(f_regression, k=500)\n",
    "n_X_train = selector.fit_transform(X_train, y_train)\n",
    "n_X_test = selector.transform(X_test)"
   ]
  },
  {
   "cell_type": "code",
   "execution_count": 65,
   "metadata": {
    "colab": {
     "base_uri": "https://localhost:8080/",
     "height": 86
    },
    "colab_type": "code",
    "id": "vTmKw8qyhkgF",
    "outputId": "b35dbdd9-a467-4084-dfd6-6e6bf39c7871"
   },
   "outputs": [
    {
     "data": {
      "text/plain": [
       "SVC(C=1.0, cache_size=200, class_weight=None, coef0=0.0,\n",
       "    decision_function_shape='ovr', degree=3, gamma='auto', kernel='linear',\n",
       "    max_iter=-1, probability=False, random_state=None, shrinking=True,\n",
       "    tol=0.001, verbose=False)"
      ]
     },
     "execution_count": 65,
     "metadata": {
      "tags": []
     },
     "output_type": "execute_result"
    }
   ],
   "source": [
    "from sklearn.svm import SVC\n",
    "\n",
    "svc = SVC(gamma='auto', kernel='linear')\n",
    "svc.fit(new_x, ny_train)"
   ]
  },
  {
   "cell_type": "code",
   "execution_count": 67,
   "metadata": {
    "colab": {
     "base_uri": "https://localhost:8080/",
     "height": 173
    },
    "colab_type": "code",
    "id": "KmOygkzDiCHU",
    "outputId": "0e9c3228-abc1-4db3-fd71-39779d7f0f8c"
   },
   "outputs": [
    {
     "name": "stdout",
     "output_type": "stream",
     "text": [
      "              precision    recall  f1-score   support\n",
      "\n",
      "           0       0.82      0.72      0.77       959\n",
      "           1       0.83      0.90      0.86      1464\n",
      "\n",
      "    accuracy                           0.83      2423\n",
      "   macro avg       0.83      0.81      0.82      2423\n",
      "weighted avg       0.83      0.83      0.83      2423\n",
      "\n"
     ]
    }
   ],
   "source": [
    "import sklearn.metrics\n",
    "\n",
    "predicted = svc.predict(svd.transform(X_test))\n",
    "\n",
    "from sklearn.metrics import classification_report\n",
    "print(classification_report(ny_test, predicted))"
   ]
  },
  {
   "cell_type": "markdown",
   "metadata": {
    "colab_type": "text",
    "id": "iD69ka5pFJCm"
   },
   "source": [
    "SVC seems to be doing a better job with review 'polarity'. There are a few things which I can still try to improve this further -\n",
    "\n",
    "1. Run grid search with CV to find better values for SVC.\n",
    "2. I can do an undersampling on the entire data-set, and get more datapoints.\n",
    "3. I can drop the neutral ratings from this classifier to get a more noise-free signal. Also, note that after I converted the 1 to 5 rating to polarity and put rating of 3, 4 and 5 together, the dataset has again become imbalanced to the ratio of 2:3, and that could be causing lower recall for the minority class."
   ]
  },
  {
   "cell_type": "markdown",
   "metadata": {
    "colab_type": "text",
    "id": "utcEA5GaGVAF"
   },
   "source": [
    "# **ML model on helpful votes**\n",
    "\n",
    "I next quickly run a regressor for helpful votes, though it does not look very promising."
   ]
  },
  {
   "cell_type": "code",
   "execution_count": 11,
   "metadata": {
    "colab": {
     "base_uri": "https://localhost:8080/",
     "height": 35
    },
    "colab_type": "code",
    "id": "tzN1p1uJpsyi",
    "outputId": "2e652339-76fe-4b64-f535-7eff341a1787"
   },
   "outputs": [
    {
     "name": "stdout",
     "output_type": "stream",
     "text": [
      "train score  0.05252742269277133\n"
     ]
    }
   ],
   "source": [
    "from sklearn.linear_model import LinearRegression\n",
    "from sklearn.model_selection import train_test_split\n",
    "from sklearn.metrics import r2_score\n",
    "from sklearn.decomposition import TruncatedSVD\n",
    "\n",
    "X_train, X_test, y_train, y_test = train_test_split(x, ndf[\"helpful_votes\"], test_size=0.33)\n",
    "\n",
    "svd = TruncatedSVD(n_components=600, algorithm='arpack')\n",
    "new_x = svd.fit_transform(X_train)\n",
    "\n",
    "reg = LinearRegression().fit(new_x, y_train)\n",
    "predicted = reg.predict(new_x)\n",
    "print(\"train score \",r2_score(y_train, predicted))\n"
   ]
  },
  {
   "cell_type": "code",
   "execution_count": 13,
   "metadata": {
    "colab": {
     "base_uri": "https://localhost:8080/",
     "height": 52
    },
    "colab_type": "code",
    "id": "fDl7raQQY2IC",
    "outputId": "9a09b8be-10e4-4842-ee44-b28a15782c44"
   },
   "outputs": [
    {
     "name": "stdout",
     "output_type": "stream",
     "text": [
      "Test r-square 0.05607179765630099\n",
      "Test rmse 2.517997215202889\n"
     ]
    }
   ],
   "source": [
    "import numpy as np\n",
    "from sklearn.metrics import mean_squared_error\n",
    "\n",
    "predicted = reg.predict(svd.transform(X_test))\n",
    "print(\"Test r-square\", r2_score(y_test, predicted))\n",
    "print(\"Test rmse\", np.sqrt(mean_squared_error(y_test, predicted)))"
   ]
  },
  {
   "cell_type": "markdown",
   "metadata": {
    "colab_type": "text",
    "id": "foKbCbYPY97s"
   },
   "source": [
    "As we can see it is behaving very poorly. Most likely because most of the reviews do not get any helpful votes. The RMSE may not look too bad if you consider the range of helpful votes but since most points are 0 helpful votes, RMSE is also likely to be dominated by that.\n",
    "  I will try with undersampling but limit my helpful vote range to those below 10. Otherwise the sampled set will be very small."
   ]
  },
  {
   "cell_type": "code",
   "execution_count": 7,
   "metadata": {
    "colab": {
     "base_uri": "https://localhost:8080/",
     "height": 138
    },
    "colab_type": "code",
    "id": "RP4QCezTfPFl",
    "outputId": "56abb3cb-dc95-489e-9b00-3b04e60004e0"
   },
   "outputs": [
    {
     "data": {
      "text/plain": [
       "TfidfVectorizer(analyzer='word', binary=False, decode_error='strict',\n",
       "                dtype=<class 'numpy.float64'>, encoding='utf-8',\n",
       "                input='content', lowercase=True, max_df=0.9, max_features=None,\n",
       "                min_df=10, ngram_range=(1, 1), norm='l2', preprocessor=None,\n",
       "                smooth_idf=True, stop_words=None, strip_accents=None,\n",
       "                sublinear_tf=False, token_pattern='(?u)\\\\b\\\\w\\\\w+\\\\b',\n",
       "                tokenizer=None, use_idf=True, vocabulary=None)"
      ]
     },
     "execution_count": 7,
     "metadata": {
      "tags": []
     },
     "output_type": "execute_result"
    }
   ],
   "source": [
    "# I fit a TfIdfVectorizer first and then use it to transform smaller datasets.\n",
    "# TfIdf fitting would best be done on large datasets, and hence I choose to do\n",
    "# the fitting first.\n",
    "from sklearn.feature_extraction.text import TfidfVectorizer\n",
    "vect = TfidfVectorizer(min_df=10, max_df=0.90)\n",
    "vect.fit(ndf[\"text\"].values.astype('U'))\n"
   ]
  },
  {
   "cell_type": "code",
   "execution_count": 0,
   "metadata": {
    "colab": {},
    "colab_type": "code",
    "id": "Sj79U_rkY60h"
   },
   "outputs": [],
   "source": [
    "from imblearn.under_sampling import RandomUnderSampler \n",
    "\n",
    "filtered_df = ndf[ndf[\"helpful_votes\"] <= 5]\n",
    "x = vect.transform(filtered_df[\"text\"].values.astype('U'))\n",
    "\n",
    "rus = RandomUnderSampler()\n",
    "nx, ny = rus.fit_resample(x, filtered_df[\"helpful_votes\"])\n"
   ]
  },
  {
   "cell_type": "code",
   "execution_count": 38,
   "metadata": {
    "colab": {
     "base_uri": "https://localhost:8080/",
     "height": 35
    },
    "colab_type": "code",
    "id": "uY0ztX2jdXbH",
    "outputId": "f1686e51-9b85-4a8d-d337-c4508ce66019"
   },
   "outputs": [
    {
     "name": "stdout",
     "output_type": "stream",
     "text": [
      "train score  0.43413543525136644\n"
     ]
    }
   ],
   "source": [
    "X_train, X_test, y_train, y_test = train_test_split(nx, ny, test_size=0.33)\n",
    "\n",
    "svd = TruncatedSVD(n_components=600, algorithm='arpack')\n",
    "new_x = svd.fit_transform(X_train)\n",
    "\n",
    "reg = LinearRegression().fit(new_x, y_train)\n",
    "predicted = reg.predict(new_x)\n",
    "print(\"train score \",r2_score(y_train, predicted))\n"
   ]
  },
  {
   "cell_type": "code",
   "execution_count": 39,
   "metadata": {
    "colab": {
     "base_uri": "https://localhost:8080/",
     "height": 52
    },
    "colab_type": "code",
    "id": "z_be6ijgemmW",
    "outputId": "2b6f68ff-a81c-48ab-e263-4f751db7751d"
   },
   "outputs": [
    {
     "name": "stdout",
     "output_type": "stream",
     "text": [
      "Test r-square 0.10566170541097109\n",
      "Test rmse 1.633670468224096\n"
     ]
    }
   ],
   "source": [
    "predicted = reg.predict(svd.transform(X_test))\n",
    "print(\"Test r-square\", r2_score(y_test, predicted))\n",
    "print(\"Test rmse\", np.sqrt(mean_squared_error(y_test, predicted)))"
   ]
  },
  {
   "cell_type": "markdown",
   "metadata": {
    "colab_type": "text",
    "id": "osbm7h8g0_-F"
   },
   "source": [
    "We still have huge overfitting because our sample size was reduced to < 4000. We can do the undersampling over the entire dataset to increase the size.\n",
    "\n",
    "This time I use RandomUnderSampler on the entire dataframe. This means I can use different columns if required. \n",
    "\n"
   ]
  },
  {
   "cell_type": "code",
   "execution_count": 0,
   "metadata": {
    "colab": {},
    "colab_type": "code",
    "id": "NxsWerAXiUUy"
   },
   "outputs": [],
   "source": [
    "from imblearn.under_sampling import RandomUnderSampler \n",
    "\n",
    "filtered_df = df[df[\"helpful_votes\"] <= 5].dropna()\n",
    "\n",
    "rus = RandomUnderSampler()\n",
    "rus_df, ny = rus.fit_resample(filtered_df, filtered_df[\"helpful_votes\"])\n"
   ]
  },
  {
   "cell_type": "markdown",
   "metadata": {
    "colab_type": "text",
    "id": "HGhkpUIm1aKQ"
   },
   "source": [
    "However using RandomUnderSampler on dataframe gives me raw data as array, and I need to convert it to dataframe again for convenience."
   ]
  },
  {
   "cell_type": "code",
   "execution_count": 0,
   "metadata": {
    "colab": {},
    "colab_type": "code",
    "id": "RV0RzYGVl5n1"
   },
   "outputs": [],
   "source": [
    "r_df = pd.DataFrame(rus_df, columns=df.columns)\n",
    "x = vect.transform(r_df[\"text\"].values.astype('U'))"
   ]
  },
  {
   "cell_type": "code",
   "execution_count": 0,
   "metadata": {
    "colab": {},
    "colab_type": "code",
    "id": "pBG5ZcXkm5UT"
   },
   "outputs": [],
   "source": [
    "from sklearn.model_selection import train_test_split\n",
    "from sklearn.decomposition import TruncatedSVD\n",
    "\n",
    "X_train, X_test, y_train, y_test = train_test_split(x, r_df[\"helpful_votes\"], test_size=0.33)\n",
    "\n",
    "svd = TruncatedSVD(n_components=600, algorithm='arpack')\n",
    "new_x = svd.fit_transform(X_train)\n",
    "\n"
   ]
  },
  {
   "cell_type": "code",
   "execution_count": 28,
   "metadata": {
    "colab": {
     "base_uri": "https://localhost:8080/",
     "height": 69
    },
    "colab_type": "code",
    "id": "c44ynGJHnoyW",
    "outputId": "1e58ae50-c4eb-493c-ac8f-ad81bb55fca7"
   },
   "outputs": [
    {
     "name": "stdout",
     "output_type": "stream",
     "text": [
      "train score  0.22287443933689477\n",
      "Test r-square 0.20017282312276052\n",
      "Test rmse 1.520543403771622\n"
     ]
    }
   ],
   "source": [
    "from sklearn.linear_model import LinearRegression\n",
    "from sklearn.metrics import r2_score\n",
    "from sklearn.metrics import mean_squared_error\n",
    "import numpy as np\n",
    "\n",
    "\n",
    "reg = LinearRegression().fit(new_x, y_train)\n",
    "predicted = reg.predict(new_x)\n",
    "print(\"train score \",r2_score(y_train, predicted))\n",
    "\n",
    "predicted = reg.predict(svd.transform(X_test))\n",
    "print(\"Test r-square\", r2_score(y_test, predicted))\n",
    "print(\"Test rmse\", np.sqrt(mean_squared_error(y_test, predicted)))\n"
   ]
  },
  {
   "cell_type": "markdown",
   "metadata": {
    "colab_type": "text",
    "id": "6Lkh-RKC1yvZ"
   },
   "source": [
    "My regression does not return very great result. I try once with feature-selection. Note that LSA reduces dimensions but that reduction is independent of the target variable. \n",
    "\n",
    "Using SelectKBest, I can target feature selection based on target variable."
   ]
  },
  {
   "cell_type": "code",
   "execution_count": 38,
   "metadata": {
    "colab": {
     "base_uri": "https://localhost:8080/",
     "height": 227
    },
    "colab_type": "code",
    "id": "PKHurvUtHCAu",
    "outputId": "862bf0f7-59bd-4fb8-ac87-32d2f8e2b3e7"
   },
   "outputs": [
    {
     "name": "stderr",
     "output_type": "stream",
     "text": [
      "/usr/local/lib/python3.6/dist-packages/sklearn/feature_selection/univariate_selection.py:299: RuntimeWarning: invalid value encountered in true_divide\n",
      "  corr /= X_norms\n",
      "/usr/local/lib/python3.6/dist-packages/scipy/stats/_distn_infrastructure.py:901: RuntimeWarning: invalid value encountered in greater\n",
      "  return (a < x) & (x < b)\n",
      "/usr/local/lib/python3.6/dist-packages/scipy/stats/_distn_infrastructure.py:901: RuntimeWarning: invalid value encountered in less\n",
      "  return (a < x) & (x < b)\n",
      "/usr/local/lib/python3.6/dist-packages/scipy/stats/_distn_infrastructure.py:1892: RuntimeWarning: invalid value encountered in less_equal\n",
      "  cond2 = cond0 & (x <= _a)\n"
     ]
    },
    {
     "name": "stdout",
     "output_type": "stream",
     "text": [
      "train score  0.22040905226612106\n",
      "Test r-square 0.18690860968846856\n",
      "Test rmse 1.5330997909185073\n"
     ]
    }
   ],
   "source": [
    "from sklearn.feature_selection import SelectKBest, f_regression\n",
    "\n",
    "selector = SelectKBest(f_regression, k=500)\n",
    "n_X_train = selector.fit_transform(X_train, y_train.astype(float))\n",
    "n_X_test = selector.transform(X_test)\n",
    "\n",
    "reg = LinearRegression().fit(n_X_train, y_train)\n",
    "predicted = reg.predict(n_X_train)\n",
    "print(\"train score \",r2_score(y_train, predicted))\n",
    "\n",
    "predicted = reg.predict(n_X_test)\n",
    "print(\"Test r-square\", r2_score(y_test, predicted))\n",
    "print(\"Test rmse\", np.sqrt(mean_squared_error(y_test, predicted)))\n"
   ]
  },
  {
   "cell_type": "markdown",
   "metadata": {
    "colab_type": "text",
    "id": "-BXMQCZt2MT3"
   },
   "source": [
    "This still does not give any better result. It is slightly worse, but that could be fixed by tweaking number of features.\n",
    "\n",
    "Next, I try regressing on 'helpfulness' i.e. ratio of helpful_votes/total."
   ]
  },
  {
   "cell_type": "code",
   "execution_count": 0,
   "metadata": {
    "colab": {},
    "colab_type": "code",
    "id": "YP2H4I-jogzM"
   },
   "outputs": [],
   "source": [
    "from sklearn.model_selection import train_test_split\n",
    "from sklearn.decomposition import TruncatedSVD\n",
    "\n",
    "X_train, X_test, y_train, y_test = train_test_split(x, r_df[\"helpfulness\"], test_size=0.33)\n",
    "\n",
    "svd = TruncatedSVD(n_components=600, algorithm='arpack')\n",
    "new_x = svd.fit_transform(X_train)\n"
   ]
  },
  {
   "cell_type": "code",
   "execution_count": 40,
   "metadata": {
    "colab": {
     "base_uri": "https://localhost:8080/",
     "height": 69
    },
    "colab_type": "code",
    "id": "VwYwIXPZqnT8",
    "outputId": "517e4f7f-2165-464c-a2bc-f6e585e20573"
   },
   "outputs": [
    {
     "name": "stdout",
     "output_type": "stream",
     "text": [
      "train score  0.2212559441134303\n",
      "Test r-square 0.19891775467084183\n",
      "Test rmse 0.24833551357983982\n"
     ]
    }
   ],
   "source": [
    "from sklearn.linear_model import LinearRegression\n",
    "from sklearn.metrics import r2_score\n",
    "from sklearn.metrics import mean_squared_error\n",
    "import numpy as np\n",
    "\n",
    "\n",
    "reg = LinearRegression().fit(new_x, y_train)\n",
    "predicted = reg.predict(new_x)\n",
    "print(\"train score \",r2_score(y_train, predicted))\n",
    "\n",
    "predicted = reg.predict(svd.transform(X_test))\n",
    "print(\"Test r-square\", r2_score(y_test, predicted))\n",
    "print(\"Test rmse\", np.sqrt(mean_squared_error(y_test, predicted)))\n"
   ]
  },
  {
   "cell_type": "markdown",
   "metadata": {
    "colab_type": "text",
    "id": "Haf6hScNqxDR"
   },
   "source": [
    "It seems like there is very little hope with regression. So, finally I try to build a classifier instead. I drop reviews with number of helpful votes 1 and 2. This is to reduce noise and define a clear boundary between what is helpful and what is not.\n",
    "\n",
    "Any review with 0 votes is not helpful, and anything with > 2 is helpful under this definition."
   ]
  },
  {
   "cell_type": "code",
   "execution_count": 42,
   "metadata": {
    "colab": {
     "base_uri": "https://localhost:8080/",
     "height": 52
    },
    "colab_type": "code",
    "id": "9cKBOrh1qwJR",
    "outputId": "f4ce7dfd-174d-45d5-b2aa-ef0eda5509b8"
   },
   "outputs": [
    {
     "name": "stderr",
     "output_type": "stream",
     "text": [
      "/usr/local/lib/python3.6/dist-packages/ipykernel_launcher.py:1: UserWarning: Boolean Series key will be reindexed to match DataFrame index.\n",
      "  \"\"\"Entry point for launching an IPython kernel.\n"
     ]
    }
   ],
   "source": [
    "cl_df = r_df[r_df[\"helpful_votes\"] != 1][r_df[\"helpful_votes\"] != 2]\n",
    "cl_df[\"helpful\"] = cl_df[\"helpful_votes\"] != 0\n"
   ]
  },
  {
   "cell_type": "markdown",
   "metadata": {
    "colab_type": "text",
    "id": "-ccNYG7P259m"
   },
   "source": [
    "I rebalance the classes, and train an SVM classifier with linear kernel (least likely to overfit)."
   ]
  },
  {
   "cell_type": "code",
   "execution_count": 45,
   "metadata": {
    "colab": {
     "base_uri": "https://localhost:8080/",
     "height": 86
    },
    "colab_type": "code",
    "id": "rwaRR7vRrq-s",
    "outputId": "5e44dafe-608d-446d-a0db-06234fca0178"
   },
   "outputs": [
    {
     "data": {
      "text/plain": [
       "SVC(C=1.0, cache_size=200, class_weight=None, coef0=0.0,\n",
       "    decision_function_shape='ovr', degree=3, gamma='auto', kernel='linear',\n",
       "    max_iter=-1, probability=False, random_state=None, shrinking=True,\n",
       "    tol=0.001, verbose=False)"
      ]
     },
     "execution_count": 45,
     "metadata": {
      "tags": []
     },
     "output_type": "execute_result"
    }
   ],
   "source": [
    "from imblearn.under_sampling import RandomUnderSampler \n",
    "from sklearn.svm import SVC\n",
    "\n",
    "x = vect.transform(cl_df[\"text\"].values.astype('U'))\n",
    "\n",
    "rus = RandomUnderSampler()\n",
    "nx, ny = rus.fit_resample(x, cl_df[\"helpful\"])\n",
    "\n",
    "X_train, X_test, y_train, y_test = train_test_split(nx, ny, test_size=0.33)\n",
    "\n",
    "svc = SVC(gamma='auto', kernel='linear')\n",
    "svc.fit(X_train, y_train)"
   ]
  },
  {
   "cell_type": "code",
   "execution_count": 46,
   "metadata": {
    "colab": {
     "base_uri": "https://localhost:8080/",
     "height": 173
    },
    "colab_type": "code",
    "id": "SCKizfHns-kp",
    "outputId": "d578cb94-fc3a-4ac8-be1a-cd9b70bb7f57"
   },
   "outputs": [
    {
     "name": "stdout",
     "output_type": "stream",
     "text": [
      "              precision    recall  f1-score   support\n",
      "\n",
      "       False       0.76      0.73      0.75      2947\n",
      "        True       0.74      0.77      0.76      2937\n",
      "\n",
      "    accuracy                           0.75      5884\n",
      "   macro avg       0.75      0.75      0.75      5884\n",
      "weighted avg       0.75      0.75      0.75      5884\n",
      "\n"
     ]
    }
   ],
   "source": [
    "import sklearn.metrics\n",
    "from sklearn.metrics import classification_report\n",
    "\n",
    "predicted = svc.predict(X_test)\n",
    "print(classification_report(y_test, predicted))"
   ]
  },
  {
   "cell_type": "markdown",
   "metadata": {
    "colab_type": "text",
    "id": "qLwvH3Kf3ECk"
   },
   "source": [
    "This seems much better that whatever we have tried so far. I next try to apply LSA before SVM to reduce noise (below), but it seems like LSA with linear kerner does not have much effect."
   ]
  },
  {
   "cell_type": "code",
   "execution_count": 47,
   "metadata": {
    "colab": {
     "base_uri": "https://localhost:8080/",
     "height": 173
    },
    "colab_type": "code",
    "id": "l_GcVbO9tTB8",
    "outputId": "1dd6cb56-4608-4eb8-f18f-e405ba0aa717"
   },
   "outputs": [
    {
     "name": "stdout",
     "output_type": "stream",
     "text": [
      "              precision    recall  f1-score   support\n",
      "\n",
      "       False       0.78      0.73      0.75      2947\n",
      "        True       0.74      0.79      0.77      2937\n",
      "\n",
      "    accuracy                           0.76      5884\n",
      "   macro avg       0.76      0.76      0.76      5884\n",
      "weighted avg       0.76      0.76      0.76      5884\n",
      "\n"
     ]
    }
   ],
   "source": [
    "svd = TruncatedSVD(n_components=600, algorithm='arpack')\n",
    "new_x = svd.fit_transform(X_train)\n",
    "\n",
    "svc = SVC(gamma='auto', kernel='linear')\n",
    "svc.fit(new_x, y_train)\n",
    "\n",
    "predicted = svc.predict(svd.transform(X_test))\n",
    "print(classification_report(y_test, predicted))"
   ]
  },
  {
   "cell_type": "markdown",
   "metadata": {
    "colab_type": "text",
    "id": "CTdwITGEvOe9"
   },
   "source": [
    "# **Conclusions:**\n",
    "\n",
    "Helpful votes seem to be very noisy, if looked at by the exact counts of votes. A binary classifier performs much better on helpfulness than a regressor, even after balancing the datasets.\n",
    "\n",
    "SVC over TfIdf performs decently but many things still remain to be tried -\n",
    "    1. bi-grams\n",
    "    2. adjective/adverb annotation\n",
    "    3. SVM parameter tuning. It is possible that b may not be required if SVM parameters are tuned.\n",
    "    \n",
    "Given that the EDA shows that there is little universal agreement on what is considered helpful, it is possible that we do not get a very good predictor for it i.e it is possible that different sets of people consider different attributes more helpful, or that there is good amount of spam in our data."
   ]
  }
 ],
 "metadata": {
  "colab": {
   "collapsed_sections": [],
   "machine_shape": "hm",
   "name": "amazon_reviews.ipynb",
   "provenance": []
  },
  "hide_input": false,
  "kernelspec": {
   "display_name": "Python 3",
   "language": "python",
   "name": "python3"
  },
  "language_info": {
   "codemirror_mode": {
    "name": "ipython",
    "version": 3
   },
   "file_extension": ".py",
   "mimetype": "text/x-python",
   "name": "python",
   "nbconvert_exporter": "python",
   "pygments_lexer": "ipython3",
   "version": "3.6.5"
  },
  "varInspector": {
   "cols": {
    "lenName": 16,
    "lenType": 16,
    "lenVar": 40
   },
   "kernels_config": {
    "python": {
     "delete_cmd_postfix": "",
     "delete_cmd_prefix": "del ",
     "library": "var_list.py",
     "varRefreshCmd": "print(var_dic_list())"
    },
    "r": {
     "delete_cmd_postfix": ") ",
     "delete_cmd_prefix": "rm(",
     "library": "var_list.r",
     "varRefreshCmd": "cat(var_dic_list()) "
    }
   },
   "types_to_exclude": [
    "module",
    "function",
    "builtin_function_or_method",
    "instance",
    "_Feature"
   ],
   "window_display": false
  }
 },
 "nbformat": 4,
 "nbformat_minor": 1
}
