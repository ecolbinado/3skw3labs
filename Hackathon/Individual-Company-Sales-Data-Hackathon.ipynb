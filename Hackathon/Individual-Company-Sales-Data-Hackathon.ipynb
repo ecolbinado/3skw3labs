{
 "cells": [
  {
   "cell_type": "code",
   "execution_count": 21,
   "metadata": {
    "ExecuteTime": {
     "end_time": "2019-10-18T15:01:51.392900Z",
     "start_time": "2019-10-18T15:01:51.366027Z"
    }
   },
   "outputs": [],
   "source": [
    "import numpy as np \n",
    "import pandas as pd\n",
    "\n",
    "import warnings\n",
    "warnings.filterwarnings('ignore')"
   ]
  },
  {
   "cell_type": "markdown",
   "metadata": {},
   "source": [
    "### Context\n",
    "This is a sales data from an individual company.\n",
    "\n",
    "#### Content\n",
    "This dataset includes about 40,000 rows and 15 feature variables. Each row corresponds to a customer infomation, and includes the variables:\n",
    "\n",
    "**flag:** Whether the customer has bought the target product or not <br/>\n",
    "**gender:** Gender of the customer <br/>\n",
    "**education:** Education background of customer <br/>\n",
    "**house_val:** Value of the residence the customer lives in <br/>\n",
    "**age:** Age of the customer by group <br/>\n",
    "**online:** Whether the customer had online shopping experience or not <br/>\n",
    "**customer_psy:** Variable describing consumer psychology based on the area of residence <br/>\n",
    "**marriage:** Marriage status of the customer <br/>\n",
    "**children:** Whether the customer has children or not <br/>\n",
    "**occupation:** Career information of the customer <br/>\n",
    "**mortgage:** Housing Loan Information of customers <br/>\n",
    "**house_own:** Whether the customer owns a house or not <br/>\n",
    "**region:** Information on the area in which the customer are located <br/>\n",
    "**car_prob:** The probability that the customer will buy a new car (1 means the maximum possible）<br/>\n",
    "**fam_income:** Family income Information of the customer (A means the lowest, and L means the highest) <br/>"
   ]
  },
  {
   "cell_type": "code",
   "execution_count": 22,
   "metadata": {
    "ExecuteTime": {
     "end_time": "2019-10-18T15:01:51.525992Z",
     "start_time": "2019-10-18T15:01:51.400549Z"
    }
   },
   "outputs": [
    {
     "data": {
      "text/html": [
       "<div>\n",
       "<style scoped>\n",
       "    .dataframe tbody tr th:only-of-type {\n",
       "        vertical-align: middle;\n",
       "    }\n",
       "\n",
       "    .dataframe tbody tr th {\n",
       "        vertical-align: top;\n",
       "    }\n",
       "\n",
       "    .dataframe thead th {\n",
       "        text-align: right;\n",
       "    }\n",
       "</style>\n",
       "<table border=\"1\" class=\"dataframe\">\n",
       "  <thead>\n",
       "    <tr style=\"text-align: right;\">\n",
       "      <th></th>\n",
       "      <th>flag</th>\n",
       "      <th>gender</th>\n",
       "      <th>education</th>\n",
       "      <th>house_val</th>\n",
       "      <th>age</th>\n",
       "      <th>online</th>\n",
       "      <th>customer_psy</th>\n",
       "      <th>marriage</th>\n",
       "      <th>child</th>\n",
       "      <th>occupation</th>\n",
       "      <th>mortgage</th>\n",
       "      <th>house_owner</th>\n",
       "      <th>region</th>\n",
       "      <th>car_prob</th>\n",
       "      <th>fam_income</th>\n",
       "    </tr>\n",
       "  </thead>\n",
       "  <tbody>\n",
       "    <tr>\n",
       "      <td>0</td>\n",
       "      <td>Y</td>\n",
       "      <td>M</td>\n",
       "      <td>4. Grad</td>\n",
       "      <td>756460</td>\n",
       "      <td>1_Unk</td>\n",
       "      <td>N</td>\n",
       "      <td>B</td>\n",
       "      <td>NaN</td>\n",
       "      <td>U</td>\n",
       "      <td>Professional</td>\n",
       "      <td>1Low</td>\n",
       "      <td>NaN</td>\n",
       "      <td>Midwest</td>\n",
       "      <td>1</td>\n",
       "      <td>L</td>\n",
       "    </tr>\n",
       "    <tr>\n",
       "      <td>1</td>\n",
       "      <td>N</td>\n",
       "      <td>F</td>\n",
       "      <td>3. Bach</td>\n",
       "      <td>213171</td>\n",
       "      <td>7_&gt;65</td>\n",
       "      <td>N</td>\n",
       "      <td>E</td>\n",
       "      <td>NaN</td>\n",
       "      <td>U</td>\n",
       "      <td>Professional</td>\n",
       "      <td>1Low</td>\n",
       "      <td>Owner</td>\n",
       "      <td>Northeast</td>\n",
       "      <td>3</td>\n",
       "      <td>G</td>\n",
       "    </tr>\n",
       "    <tr>\n",
       "      <td>2</td>\n",
       "      <td>N</td>\n",
       "      <td>M</td>\n",
       "      <td>2. Some College</td>\n",
       "      <td>111147</td>\n",
       "      <td>2_&lt;=25</td>\n",
       "      <td>Y</td>\n",
       "      <td>C</td>\n",
       "      <td>NaN</td>\n",
       "      <td>Y</td>\n",
       "      <td>Professional</td>\n",
       "      <td>1Low</td>\n",
       "      <td>Owner</td>\n",
       "      <td>Midwest</td>\n",
       "      <td>1</td>\n",
       "      <td>J</td>\n",
       "    </tr>\n",
       "    <tr>\n",
       "      <td>3</td>\n",
       "      <td>Y</td>\n",
       "      <td>M</td>\n",
       "      <td>2. Some College</td>\n",
       "      <td>354151</td>\n",
       "      <td>2_&lt;=25</td>\n",
       "      <td>Y</td>\n",
       "      <td>B</td>\n",
       "      <td>Single</td>\n",
       "      <td>U</td>\n",
       "      <td>Sales/Service</td>\n",
       "      <td>1Low</td>\n",
       "      <td>NaN</td>\n",
       "      <td>West</td>\n",
       "      <td>2</td>\n",
       "      <td>L</td>\n",
       "    </tr>\n",
       "    <tr>\n",
       "      <td>4</td>\n",
       "      <td>Y</td>\n",
       "      <td>F</td>\n",
       "      <td>2. Some College</td>\n",
       "      <td>117087</td>\n",
       "      <td>1_Unk</td>\n",
       "      <td>Y</td>\n",
       "      <td>J</td>\n",
       "      <td>Married</td>\n",
       "      <td>Y</td>\n",
       "      <td>Sales/Service</td>\n",
       "      <td>1Low</td>\n",
       "      <td>NaN</td>\n",
       "      <td>South</td>\n",
       "      <td>7</td>\n",
       "      <td>H</td>\n",
       "    </tr>\n",
       "  </tbody>\n",
       "</table>\n",
       "</div>"
      ],
      "text/plain": [
       "  flag gender        education  house_val     age online customer_psy  \\\n",
       "0    Y      M          4. Grad     756460   1_Unk      N            B   \n",
       "1    N      F          3. Bach     213171   7_>65      N            E   \n",
       "2    N      M  2. Some College     111147  2_<=25      Y            C   \n",
       "3    Y      M  2. Some College     354151  2_<=25      Y            B   \n",
       "4    Y      F  2. Some College     117087   1_Unk      Y            J   \n",
       "\n",
       "  marriage child     occupation mortgage house_owner     region  car_prob  \\\n",
       "0      NaN     U   Professional     1Low         NaN    Midwest         1   \n",
       "1      NaN     U   Professional     1Low       Owner  Northeast         3   \n",
       "2      NaN     Y   Professional     1Low       Owner    Midwest         1   \n",
       "3   Single     U  Sales/Service     1Low         NaN       West         2   \n",
       "4  Married     Y  Sales/Service     1Low         NaN      South         7   \n",
       "\n",
       "  fam_income  \n",
       "0          L  \n",
       "1          G  \n",
       "2          J  \n",
       "3          L  \n",
       "4          H  "
      ]
     },
     "execution_count": 22,
     "metadata": {},
     "output_type": "execute_result"
    }
   ],
   "source": [
    "df = pd.read_csv('sales_data.csv')\n",
    "df.head()"
   ]
  },
  {
   "cell_type": "code",
   "execution_count": 23,
   "metadata": {
    "ExecuteTime": {
     "end_time": "2019-10-18T15:01:51.536170Z",
     "start_time": "2019-10-18T15:01:51.528219Z"
    }
   },
   "outputs": [
    {
     "data": {
      "text/plain": [
       "(40000, 15)"
      ]
     },
     "execution_count": 23,
     "metadata": {},
     "output_type": "execute_result"
    }
   ],
   "source": [
    "# shape of dataframe\n",
    "df.shape"
   ]
  },
  {
   "cell_type": "code",
   "execution_count": 24,
   "metadata": {
    "ExecuteTime": {
     "end_time": "2019-10-18T15:01:51.547040Z",
     "start_time": "2019-10-18T15:01:51.539572Z"
    }
   },
   "outputs": [
    {
     "data": {
      "text/plain": [
       "flag            object\n",
       "gender          object\n",
       "education       object\n",
       "house_val        int64\n",
       "age             object\n",
       "online          object\n",
       "customer_psy    object\n",
       "marriage        object\n",
       "child           object\n",
       "occupation      object\n",
       "mortgage        object\n",
       "house_owner     object\n",
       "region          object\n",
       "car_prob         int64\n",
       "fam_income      object\n",
       "dtype: object"
      ]
     },
     "execution_count": 24,
     "metadata": {},
     "output_type": "execute_result"
    }
   ],
   "source": [
    "# dataframe dtypes for each feature\n",
    "df.dtypes"
   ]
  },
  {
   "cell_type": "markdown",
   "metadata": {},
   "source": [
    "### Missing values\n",
    "Replace 'Unknown' categories with null values"
   ]
  },
  {
   "cell_type": "code",
   "execution_count": 25,
   "metadata": {
    "ExecuteTime": {
     "end_time": "2019-10-18T15:01:51.598904Z",
     "start_time": "2019-10-18T15:01:51.549724Z"
    }
   },
   "outputs": [
    {
     "name": "stdout",
     "output_type": "stream",
     "text": [
      "flag ['Y' 'N']\n",
      "gender ['M' 'F' 'U']\n",
      "education ['4. Grad' '3. Bach' '2. Some College' '1. HS' '0. <HS' nan]\n",
      "house_val [756460 213171 111147 ... 120630 603554 213596]\n",
      "age ['1_Unk' '7_>65' '2_<=25' '6_<=65' '5_<=55' '4_<=45' '3_<=35']\n",
      "online ['N' 'Y']\n",
      "customer_psy ['B' 'E' 'C' 'J' 'A' 'G' 'F' 'I' 'D' 'H' 'U']\n",
      "marriage [nan 'Single' 'Married']\n",
      "child ['U' 'Y' 'N' '0']\n",
      "occupation ['Professional' 'Sales/Service' 'Blue Collar' 'Others' 'Retired' 'Farm']\n",
      "mortgage ['1Low' '2Med' '3High']\n",
      "house_owner [nan 'Owner' 'Renter']\n",
      "region ['Midwest' 'Northeast' 'West' 'South' 'Rest']\n",
      "car_prob [1 3 2 7 5 6 9 8 4 0]\n",
      "fam_income ['L' 'G' 'J' 'H' 'C' 'I' 'D' 'E' 'A' 'F' 'B' 'K' 'U']\n"
     ]
    }
   ],
   "source": [
    "# Print unique values in each column\n",
    "feats = df.columns.tolist()\n",
    "for feat in feats:\n",
    "    print(feat, df[feat].unique())"
   ]
  },
  {
   "cell_type": "code",
   "execution_count": 10,
   "metadata": {
    "ExecuteTime": {
     "end_time": "2019-10-18T14:07:37.016291Z",
     "start_time": "2019-10-18T14:07:36.991749Z"
    }
   },
   "outputs": [
    {
     "name": "stderr",
     "output_type": "stream",
     "text": [
      "/Users/emilolbinado/anaconda3/lib/python3.6/site-packages/ipykernel_launcher.py:2: SettingWithCopyWarning: \n",
      "A value is trying to be set on a copy of a slice from a DataFrame\n",
      "\n",
      "See the caveats in the documentation: http://pandas.pydata.org/pandas-docs/stable/user_guide/indexing.html#returning-a-view-versus-a-copy\n",
      "  \n"
     ]
    }
   ],
   "source": [
    "# Letter 'U' and '1_Unk' stand for unknown values, replace them with np.nan where needed\n",
    "for feat in feats:\n",
    "    df[feat][(df[feat]=='U')] = np.nan\n",
    "    df[feat][(df[feat]=='1_Unk')] = np.nan"
   ]
  },
  {
   "cell_type": "code",
   "execution_count": 27,
   "metadata": {
    "ExecuteTime": {
     "end_time": "2019-10-18T15:03:16.334433Z",
     "start_time": "2019-10-18T15:03:16.293306Z"
    }
   },
   "outputs": [
    {
     "name": "stdout",
     "output_type": "stream",
     "text": [
      "flag 0\n",
      "gender 1151\n",
      "education 741\n",
      "house_val 0\n",
      "age 6709\n",
      "online 0\n",
      "customer_psy 127\n",
      "marriage 14027\n",
      "child 8528\n",
      "occupation 0\n",
      "mortgage 0\n",
      "house_owner 3377\n",
      "region 0\n",
      "car_prob 0\n",
      "fam_income 153\n"
     ]
    }
   ],
   "source": [
    "# How many missing values are in each column?\n",
    "for feat in feats:\n",
    "    print(feat, df[feat].isnull().sum())"
   ]
  },
  {
   "cell_type": "code",
   "execution_count": 28,
   "metadata": {
    "ExecuteTime": {
     "end_time": "2019-10-18T15:12:27.355891Z",
     "start_time": "2019-10-18T15:12:27.126565Z"
    }
   },
   "outputs": [
    {
     "data": {
      "text/plain": [
       "flag             0.0000\n",
       "gender           2.8775\n",
       "education        1.8525\n",
       "house_val        0.0000\n",
       "age             16.7725\n",
       "online           0.0000\n",
       "customer_psy     0.3175\n",
       "marriage        35.0675\n",
       "child           21.3200\n",
       "occupation       0.0000\n",
       "mortgage         0.0000\n",
       "house_owner      8.4425\n",
       "region           0.0000\n",
       "car_prob         0.0000\n",
       "fam_income       0.3825\n",
       "dtype: float64"
      ]
     },
     "execution_count": 28,
     "metadata": {},
     "output_type": "execute_result"
    }
   ],
   "source": [
    "# relative\n",
    "df.isnull().sum() / df.shape[0] * 100"
   ]
  },
  {
   "cell_type": "code",
   "execution_count": 29,
   "metadata": {
    "ExecuteTime": {
     "end_time": "2019-10-18T15:22:57.264551Z",
     "start_time": "2019-10-18T15:22:57.252980Z"
    }
   },
   "outputs": [],
   "source": [
    "# Drop a column if the proportion of missing values there is large\n",
    "toDrop = ['age', 'marriage', 'child']\n",
    "df.drop(toDrop, inplace=True, axis=1)"
   ]
  },
  {
   "cell_type": "code",
   "execution_count": 30,
   "metadata": {
    "ExecuteTime": {
     "end_time": "2019-10-18T15:23:58.197372Z",
     "start_time": "2019-10-18T15:23:58.190490Z"
    }
   },
   "outputs": [],
   "source": [
    "def category_stackedbar(df, category):\n",
    "    '''Returns stacked bar plot'''\n",
    "    return pd.DataFrame(\n",
    "        df.groupby(category).count()['flag'] / df.groupby(category).count()['flag'].sum() * 100).rename(columns={\"flag\": \"%\"}).T.plot(\n",
    "            kind='bar', \n",
    "            stacked=True\n",
    "    )"
   ]
  },
  {
   "cell_type": "code",
   "execution_count": 32,
   "metadata": {
    "ExecuteTime": {
     "end_time": "2019-10-18T15:24:14.938891Z",
     "start_time": "2019-10-18T15:24:14.642984Z"
    }
   },
   "outputs": [
    {
     "data": {
      "text/plain": [
       "<matplotlib.axes._subplots.AxesSubplot at 0x10ad8bc50>"
      ]
     },
     "execution_count": 32,
     "metadata": {},
     "output_type": "execute_result"
    },
    {
     "data": {
      "image/png": "[encoded data removed]",
      "text/plain": [
       "<Figure size 432x288 with 1 Axes>"
      ]
     },
     "metadata": {},
     "output_type": "display_data"
    }
   ],
   "source": [
    "category_stackedbar(df, 'house_owner')"
   ]
  },
  {
   "cell_type": "code",
   "execution_count": 33,
   "metadata": {
    "ExecuteTime": {
     "end_time": "2019-10-18T15:24:34.851932Z",
     "start_time": "2019-10-18T15:24:34.758346Z"
    }
   },
   "outputs": [],
   "source": [
    "df['house_owner'] = df['house_owner'].fillna(df.mode()['house_owner'][0])"
   ]
  },
  {
   "cell_type": "code",
   "execution_count": 35,
   "metadata": {
    "ExecuteTime": {
     "end_time": "2019-10-18T15:26:58.527869Z",
     "start_time": "2019-10-18T15:26:58.519551Z"
    }
   },
   "outputs": [
    {
     "data": {
      "text/plain": [
       "0"
      ]
     },
     "execution_count": 35,
     "metadata": {},
     "output_type": "execute_result"
    }
   ],
   "source": [
    "df.house_owner.isna().sum()"
   ]
  },
  {
   "cell_type": "code",
   "execution_count": 36,
   "metadata": {
    "ExecuteTime": {
     "end_time": "2019-10-18T15:30:51.928265Z",
     "start_time": "2019-10-18T15:30:51.688931Z"
    }
   },
   "outputs": [],
   "source": [
    "# Replace missing values for categorical variables with mode where appropriate\n",
    "df['gender'] = df['house_owner'].fillna(df.mode()['house_owner'][0])\n",
    "df['education'] = df['education'].fillna(df.mode()['education'][0])\n",
    "df['customer_psy'] = df['customer_psy'].fillna(df.mode()['customer_psy'][0])\n",
    "df['fam_income'] = df['fam_income'].fillna(df.mode()['fam_income'][0])"
   ]
  },
  {
   "cell_type": "code",
   "execution_count": 38,
   "metadata": {
    "ExecuteTime": {
     "end_time": "2019-10-18T15:33:35.612417Z",
     "start_time": "2019-10-18T15:33:35.581154Z"
    }
   },
   "outputs": [
    {
     "data": {
      "text/plain": [
       "flag            False\n",
       "gender          False\n",
       "education       False\n",
       "house_val       False\n",
       "online          False\n",
       "customer_psy    False\n",
       "occupation      False\n",
       "mortgage        False\n",
       "house_owner     False\n",
       "region          False\n",
       "car_prob        False\n",
       "fam_income      False\n",
       "dtype: bool"
      ]
     },
     "execution_count": 38,
     "metadata": {},
     "output_type": "execute_result"
    }
   ],
   "source": [
    "# Impute missing values where needed\n",
    "df.isna().any()"
   ]
  },
  {
   "cell_type": "code",
   "execution_count": null,
   "metadata": {},
   "outputs": [],
   "source": [
    "# Use pandas drop.na function for columns where the proportion of missing values is small\n",
    "\n",
    "df = df.dropna(subset=['column1', 'column2'])"
   ]
  },
  {
   "cell_type": "code",
   "execution_count": 39,
   "metadata": {
    "ExecuteTime": {
     "end_time": "2019-10-18T15:34:23.279946Z",
     "start_time": "2019-10-18T15:34:23.256957Z"
    }
   },
   "outputs": [
    {
     "data": {
      "text/plain": [
       "flag            0\n",
       "gender          0\n",
       "education       0\n",
       "house_val       0\n",
       "online          0\n",
       "customer_psy    0\n",
       "occupation      0\n",
       "mortgage        0\n",
       "house_owner     0\n",
       "region          0\n",
       "car_prob        0\n",
       "fam_income      0\n",
       "dtype: int64"
      ]
     },
     "execution_count": 39,
     "metadata": {},
     "output_type": "execute_result"
    }
   ],
   "source": [
    "# checking number of missing values\n",
    "df.isnull().sum()"
   ]
  },
  {
   "cell_type": "markdown",
   "metadata": {},
   "source": [
    "### Convert categorical features to a numerical representation"
   ]
  },
  {
   "cell_type": "code",
   "execution_count": null,
   "metadata": {},
   "outputs": [],
   "source": [
    "df.dtypes"
   ]
  },
  {
   "cell_type": "code",
   "execution_count": 14,
   "metadata": {},
   "outputs": [],
   "source": [
    "# Use OrdinalEncoder for ordinal categorical variables\n"
   ]
  },
  {
   "cell_type": "code",
   "execution_count": null,
   "metadata": {},
   "outputs": [],
   "source": [
    "# Use OneHotEncoder for nominal categorical variables\n",
    "\n"
   ]
  },
  {
   "cell_type": "markdown",
   "metadata": {},
   "source": [
    "### KNN Model (flag)\n",
    "\n",
    "Predict whether the customer has bought the target product or not (\"flag\" column, 2 classes)"
   ]
  },
  {
   "cell_type": "code",
   "execution_count": 15,
   "metadata": {},
   "outputs": [],
   "source": [
    "# Split the data into train and test\n"
   ]
  },
  {
   "cell_type": "code",
   "execution_count": 16,
   "metadata": {},
   "outputs": [],
   "source": [
    "# Scale the data using StandardScaler\n"
   ]
  },
  {
   "cell_type": "code",
   "execution_count": 17,
   "metadata": {},
   "outputs": [],
   "source": [
    "# Training and Predictions using KNeighborsClassifier\n"
   ]
  },
  {
   "cell_type": "code",
   "execution_count": 18,
   "metadata": {},
   "outputs": [],
   "source": [
    "# Evaluating the Algorithm using classification_report and confusion_matrix\n"
   ]
  },
  {
   "cell_type": "markdown",
   "metadata": {},
   "source": [
    "### KNN Model (fam_income)\n",
    "\n",
    "Predict family income class (\"fam_income\", more than 2 classes)"
   ]
  },
  {
   "cell_type": "code",
   "execution_count": 15,
   "metadata": {},
   "outputs": [],
   "source": [
    "# Split the data into train and test\n"
   ]
  },
  {
   "cell_type": "code",
   "execution_count": 16,
   "metadata": {},
   "outputs": [],
   "source": [
    "# Scale the data using StandardScaler\n"
   ]
  },
  {
   "cell_type": "code",
   "execution_count": 17,
   "metadata": {},
   "outputs": [],
   "source": [
    "# Training and Predictions using KNeighborsClassifier\n"
   ]
  },
  {
   "cell_type": "code",
   "execution_count": 18,
   "metadata": {},
   "outputs": [],
   "source": [
    "# Evaluating the Algorithm using classification_report and confusion_matrix\n"
   ]
  },
  {
   "cell_type": "markdown",
   "metadata": {},
   "source": [
    "### Linear Regression (house_val)\n",
    "\n",
    "Predict the value of the residence the customer lives in"
   ]
  },
  {
   "cell_type": "code",
   "execution_count": 23,
   "metadata": {},
   "outputs": [],
   "source": [
    "# Split the data into train and test\n"
   ]
  },
  {
   "cell_type": "code",
   "execution_count": 22,
   "metadata": {},
   "outputs": [],
   "source": [
    "# Training and Predictions using LinearRegression\n"
   ]
  },
  {
   "cell_type": "code",
   "execution_count": null,
   "metadata": {},
   "outputs": [],
   "source": [
    "# Evaluating the Algorithm\n",
    "\n"
   ]
  },
  {
   "cell_type": "markdown",
   "metadata": {},
   "source": [
    "### Hypothesis Testing\n"
   ]
  },
  {
   "cell_type": "code",
   "execution_count": null,
   "metadata": {},
   "outputs": [],
   "source": [
    "# Compare two population (flag) means (house_val)\n",
    "\n",
    "# State the hypotheses\n",
    "\n",
    "# State the conclusion based on the p-value"
   ]
  },
  {
   "cell_type": "code",
   "execution_count": null,
   "metadata": {},
   "outputs": [],
   "source": [
    "# Compare two population (age 35-44 and age > 55) proportions (flag = Y)\n",
    "\n",
    "# State the hypotheses\n",
    "\n",
    "# State the conclusion based on the p-value"
   ]
  },
  {
   "cell_type": "markdown",
   "metadata": {},
   "source": [
    "### Identify your Target Audience (most likely to buy the product, flag = Y) \n",
    "\n",
    "Based on EDA and Hypothesis testing\n",
    "\n",
    "What is their:<br/>\n",
    "\n",
    "**Gender**:<br/>\n",
    "**Age**:<br/>\n",
    "**Shopping experience**:<br/> \n",
    "**House evaluation**:<br/> \n",
    "**Education background**:<br/>\n",
    "**Occupation**:<br/>\n",
    "**Mortgage**:<br/>"
   ]
  },
  {
   "cell_type": "code",
   "execution_count": null,
   "metadata": {},
   "outputs": [],
   "source": []
  }
 ],
 "metadata": {
  "hide_input": false,
  "kernelspec": {
   "display_name": "Python 3",
   "language": "python",
   "name": "python3"
  },
  "language_info": {
   "codemirror_mode": {
    "name": "ipython",
    "version": 3
   },
   "file_extension": ".py",
   "mimetype": "text/x-python",
   "name": "python",
   "nbconvert_exporter": "python",
   "pygments_lexer": "ipython3",
   "version": "3.6.5"
  },
  "varInspector": {
   "cols": {
    "lenName": 16,
    "lenType": 16,
    "lenVar": 40
   },
   "kernels_config": {
    "python": {
     "delete_cmd_postfix": "",
     "delete_cmd_prefix": "del ",
     "library": "var_list.py",
     "varRefreshCmd": "print(var_dic_list())"
    },
    "r": {
     "delete_cmd_postfix": ") ",
     "delete_cmd_prefix": "rm(",
     "library": "var_list.r",
     "varRefreshCmd": "cat(var_dic_list()) "
    }
   },
   "types_to_exclude": [
    "module",
    "function",
    "builtin_function_or_method",
    "instance",
    "_Feature"
   ],
   "window_display": false
  }
 },
 "nbformat": 4,
 "nbformat_minor": 2
}
